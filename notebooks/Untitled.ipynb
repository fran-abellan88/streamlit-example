{
 "cells": [
  {
   "cell_type": "markdown",
   "id": "c1781432",
   "metadata": {},
   "source": [
    "# **`--- IMPORTS ---`**"
   ]
  },
  {
   "cell_type": "code",
   "execution_count": 1,
   "id": "481bf88b",
   "metadata": {
    "ExecuteTime": {
     "end_time": "2022-10-24T16:03:08.037348Z",
     "start_time": "2022-10-24T16:03:08.023335Z"
    }
   },
   "outputs": [
    {
     "name": "stderr",
     "output_type": "stream",
     "text": [
      "C:\\Users\\Fran\\AppData\\Local\\Temp\\ipykernel_24488\\1854931357.py:1: DeprecationWarning: Importing display from IPython.core.display is deprecated since IPython 7.14, please import from IPython display\n",
      "  from IPython.core.display import display, HTML\n"
     ]
    },
    {
     "data": {
      "text/html": [
       "<style>.container {width:80% !important;}</style>"
      ],
      "text/plain": [
       "<IPython.core.display.HTML object>"
      ]
     },
     "metadata": {},
     "output_type": "display_data"
    },
    {
     "data": {
      "text/html": [
       "<style>div.output_scroll {height: 28em;}</style>"
      ],
      "text/plain": [
       "<IPython.core.display.HTML object>"
      ]
     },
     "metadata": {},
     "output_type": "display_data"
    },
    {
     "data": {
      "text/html": [
       "<style>.rendered_html {font-size: 16px;}</style>"
      ],
      "text/plain": [
       "<IPython.core.display.HTML object>"
      ]
     },
     "metadata": {},
     "output_type": "display_data"
    }
   ],
   "source": [
    "from IPython.core.display import display, HTML\n",
    "display(HTML(\"<style>.container {width:80% !important;}</style>\"))\n",
    "display(HTML(\"<style>div.output_scroll {height: 28em;}</style>\"))\n",
    "display(HTML(\"<style>.rendered_html {font-size: 16px;}</style>\"))"
   ]
  },
  {
   "cell_type": "code",
   "execution_count": 2,
   "id": "d900f4f3",
   "metadata": {
    "ExecuteTime": {
     "end_time": "2022-10-24T16:03:09.296322Z",
     "start_time": "2022-10-24T16:03:08.038349Z"
    }
   },
   "outputs": [],
   "source": [
    "import pandas as pd\n",
    "from catboost import CatBoostClassifier\n",
    "from sklearn.model_selection import train_test_split\n",
    "from sklearn.metrics import mean_squared_error\n",
    "import seaborn as sns\n",
    "import joblib\n",
    "from datetime import datetime\n",
    "from sklearn.metrics import roc_curve, auc, roc_auc_score, precision_recall_curve, PrecisionRecallDisplay, confusion_matrix, classification_report, precision_score, recall_score, plot_confusion_matrix\n",
    "import xgboost as xgb\n",
    "from sklearn.model_selection import GridSearchCV\n",
    "import matplotlib.pyplot as plt\n",
    "from sklearn import metrics"
   ]
  },
  {
   "cell_type": "code",
   "execution_count": 3,
   "id": "0aac11dc",
   "metadata": {
    "ExecuteTime": {
     "end_time": "2022-10-24T16:03:09.312336Z",
     "start_time": "2022-10-24T16:03:09.297323Z"
    }
   },
   "outputs": [
    {
     "name": "stdout",
     "output_type": "stream",
     "text": [
      "Changed path to \"src\" folder\n"
     ]
    }
   ],
   "source": [
    "import os\n",
    "\n",
    "if os.path.basename(os.path.normpath(os.getcwd())) != 'streamlit-example':\n",
    "    os.chdir('../')\n",
    "    print('Changed path to \"src\" folder')    "
   ]
  },
  {
   "cell_type": "code",
   "execution_count": 4,
   "id": "25699b5a",
   "metadata": {
    "ExecuteTime": {
     "end_time": "2022-10-24T16:03:09.328351Z",
     "start_time": "2022-10-24T16:03:09.313338Z"
    }
   },
   "outputs": [
    {
     "data": {
      "text/plain": [
       "['.git',\n",
       " '.gitignore',\n",
       " '.idea',\n",
       " 'app',\n",
       " 'data',\n",
       " 'models',\n",
       " 'notebooks',\n",
       " 'README.md']"
      ]
     },
     "execution_count": 4,
     "metadata": {},
     "output_type": "execute_result"
    }
   ],
   "source": [
    "os.listdir()"
   ]
  },
  {
   "cell_type": "markdown",
   "id": "6e404f80",
   "metadata": {},
   "source": [
    "# **`--- READ DATA ---`**"
   ]
  },
  {
   "cell_type": "code",
   "execution_count": 5,
   "id": "93fc954d",
   "metadata": {
    "ExecuteTime": {
     "end_time": "2022-10-24T16:03:09.360380Z",
     "start_time": "2022-10-24T16:03:09.329351Z"
    }
   },
   "outputs": [],
   "source": [
    "accounts_train = pd.read_csv('data/accounts_train.csv')\n",
    "quotes_train = pd.read_csv('data/quotes_train.csv')\n",
    "\n",
    "accounts_test = pd.read_csv('data/accounts_test.csv')\n",
    "quotes_test = pd.read_csv('data/quotes_test.csv')"
   ]
  },
  {
   "cell_type": "code",
   "execution_count": 6,
   "id": "b4fde9db",
   "metadata": {
    "ExecuteTime": {
     "end_time": "2022-10-24T16:03:09.376395Z",
     "start_time": "2022-10-24T16:03:09.362381Z"
    }
   },
   "outputs": [
    {
     "name": "stdout",
     "output_type": "stream",
     "text": [
      "(5709, 9)\n"
     ]
    },
    {
     "data": {
      "text/html": [
       "<div>\n",
       "<style scoped>\n",
       "    .dataframe tbody tr th:only-of-type {\n",
       "        vertical-align: middle;\n",
       "    }\n",
       "\n",
       "    .dataframe tbody tr th {\n",
       "        vertical-align: top;\n",
       "    }\n",
       "\n",
       "    .dataframe thead th {\n",
       "        text-align: right;\n",
       "    }\n",
       "</style>\n",
       "<table border=\"1\" class=\"dataframe\">\n",
       "  <thead>\n",
       "    <tr style=\"text-align: right;\">\n",
       "      <th></th>\n",
       "      <th>account_uuid</th>\n",
       "      <th>state</th>\n",
       "      <th>industry</th>\n",
       "      <th>subindustry</th>\n",
       "      <th>year_established</th>\n",
       "      <th>annual_revenue</th>\n",
       "      <th>total_payroll</th>\n",
       "      <th>business_structure</th>\n",
       "      <th>num_employees</th>\n",
       "    </tr>\n",
       "  </thead>\n",
       "  <tbody>\n",
       "    <tr>\n",
       "      <th>0</th>\n",
       "      <td>4de966ca-b13f-4133-acd2-d516328062fc</td>\n",
       "      <td>PA</td>\n",
       "      <td>Retail Trade</td>\n",
       "      <td>Landscaping Services</td>\n",
       "      <td>2012.0</td>\n",
       "      <td>120000.0</td>\n",
       "      <td>50000.0</td>\n",
       "      <td>Limited Liability Company</td>\n",
       "      <td>4.0</td>\n",
       "    </tr>\n",
       "    <tr>\n",
       "      <th>1</th>\n",
       "      <td>85ec3b0c-8f89c-232b-6be4c-d033c5a52e</td>\n",
       "      <td>TX</td>\n",
       "      <td>Contractors</td>\n",
       "      <td>Electrical Contractors and Other Wiring Instal...</td>\n",
       "      <td>2012.0</td>\n",
       "      <td>60000.0</td>\n",
       "      <td>40000.0</td>\n",
       "      <td>Limited Liability Company</td>\n",
       "      <td>1.0</td>\n",
       "    </tr>\n",
       "    <tr>\n",
       "      <th>2</th>\n",
       "      <td>0fb1f276-95a95-9332-6927f-7e2dc3e610</td>\n",
       "      <td>NY</td>\n",
       "      <td>NaN</td>\n",
       "      <td>NaN</td>\n",
       "      <td>2016.0</td>\n",
       "      <td>150000.0</td>\n",
       "      <td>0.0</td>\n",
       "      <td>Corporation</td>\n",
       "      <td>0.0</td>\n",
       "    </tr>\n",
       "    <tr>\n",
       "      <th>3</th>\n",
       "      <td>5fe23456-f37a8-3c12-7a731-477f60edb9</td>\n",
       "      <td>CA</td>\n",
       "      <td>Professional, Scientific and Technical Services</td>\n",
       "      <td>Architectural Services</td>\n",
       "      <td>2015.0</td>\n",
       "      <td>75000.0</td>\n",
       "      <td>55000.0</td>\n",
       "      <td>Limited Liability Company</td>\n",
       "      <td>0.0</td>\n",
       "    </tr>\n",
       "    <tr>\n",
       "      <th>4</th>\n",
       "      <td>2b2ceb23-20eb3-9a3c-87034-2eccac7276</td>\n",
       "      <td>AZ</td>\n",
       "      <td>Retail Trade</td>\n",
       "      <td>Tobacco Stores</td>\n",
       "      <td>2014.0</td>\n",
       "      <td>200000.0</td>\n",
       "      <td>0.0</td>\n",
       "      <td>Limited Liability Company</td>\n",
       "      <td>0.0</td>\n",
       "    </tr>\n",
       "  </tbody>\n",
       "</table>\n",
       "</div>"
      ],
      "text/plain": [
       "                           account_uuid state  \\\n",
       "0  4de966ca-b13f-4133-acd2-d516328062fc    PA   \n",
       "1  85ec3b0c-8f89c-232b-6be4c-d033c5a52e    TX   \n",
       "2  0fb1f276-95a95-9332-6927f-7e2dc3e610    NY   \n",
       "3  5fe23456-f37a8-3c12-7a731-477f60edb9    CA   \n",
       "4  2b2ceb23-20eb3-9a3c-87034-2eccac7276    AZ   \n",
       "\n",
       "                                          industry  \\\n",
       "0                                     Retail Trade   \n",
       "1                                      Contractors   \n",
       "2                                              NaN   \n",
       "3  Professional, Scientific and Technical Services   \n",
       "4                                     Retail Trade   \n",
       "\n",
       "                                         subindustry  year_established  \\\n",
       "0                               Landscaping Services            2012.0   \n",
       "1  Electrical Contractors and Other Wiring Instal...            2012.0   \n",
       "2                                                NaN            2016.0   \n",
       "3                             Architectural Services            2015.0   \n",
       "4                                     Tobacco Stores            2014.0   \n",
       "\n",
       "   annual_revenue  total_payroll         business_structure  num_employees  \n",
       "0        120000.0        50000.0  Limited Liability Company            4.0  \n",
       "1         60000.0        40000.0  Limited Liability Company            1.0  \n",
       "2        150000.0            0.0                Corporation            0.0  \n",
       "3         75000.0        55000.0  Limited Liability Company            0.0  \n",
       "4        200000.0            0.0  Limited Liability Company            0.0  "
      ]
     },
     "metadata": {},
     "output_type": "display_data"
    },
    {
     "name": "stdout",
     "output_type": "stream",
     "text": [
      "(11724, 5)\n"
     ]
    },
    {
     "data": {
      "text/html": [
       "<div>\n",
       "<style scoped>\n",
       "    .dataframe tbody tr th:only-of-type {\n",
       "        vertical-align: middle;\n",
       "    }\n",
       "\n",
       "    .dataframe tbody tr th {\n",
       "        vertical-align: top;\n",
       "    }\n",
       "\n",
       "    .dataframe thead th {\n",
       "        text-align: right;\n",
       "    }\n",
       "</style>\n",
       "<table border=\"1\" class=\"dataframe\">\n",
       "  <thead>\n",
       "    <tr style=\"text-align: right;\">\n",
       "      <th></th>\n",
       "      <th>account_uuid</th>\n",
       "      <th>product</th>\n",
       "      <th>premium</th>\n",
       "      <th>carrier_id</th>\n",
       "      <th>convert</th>\n",
       "    </tr>\n",
       "  </thead>\n",
       "  <tbody>\n",
       "    <tr>\n",
       "      <th>0</th>\n",
       "      <td>f09e1383-2467-4741-9bd3-39cfd7a2b399</td>\n",
       "      <td>Business_Owners_Policy_BOP</td>\n",
       "      <td>4316.0</td>\n",
       "      <td>29</td>\n",
       "      <td>0</td>\n",
       "    </tr>\n",
       "    <tr>\n",
       "      <th>1</th>\n",
       "      <td>8e686305-a622-4f24-ba0a-478fcbbee32c</td>\n",
       "      <td>Commercial_Auto</td>\n",
       "      <td>2085.0</td>\n",
       "      <td>9</td>\n",
       "      <td>0</td>\n",
       "    </tr>\n",
       "    <tr>\n",
       "      <th>2</th>\n",
       "      <td>f13a4b1b-f1fe3-3e49-f60c2-824c38e79a</td>\n",
       "      <td>Business_Owners_Policy_BOP</td>\n",
       "      <td>607.0</td>\n",
       "      <td>60</td>\n",
       "      <td>0</td>\n",
       "    </tr>\n",
       "    <tr>\n",
       "      <th>3</th>\n",
       "      <td>8f58d58a-762b-40b2-8a9e-6adaa4c31ea5</td>\n",
       "      <td>Workers_Compensation</td>\n",
       "      <td>779.0</td>\n",
       "      <td>22</td>\n",
       "      <td>1</td>\n",
       "    </tr>\n",
       "    <tr>\n",
       "      <th>4</th>\n",
       "      <td>76eaf5b0-ed02d-3d49-15cf5-3745425c15</td>\n",
       "      <td>Workers_Compensation</td>\n",
       "      <td>10086.0</td>\n",
       "      <td>29</td>\n",
       "      <td>1</td>\n",
       "    </tr>\n",
       "  </tbody>\n",
       "</table>\n",
       "</div>"
      ],
      "text/plain": [
       "                           account_uuid                     product  premium  \\\n",
       "0  f09e1383-2467-4741-9bd3-39cfd7a2b399  Business_Owners_Policy_BOP   4316.0   \n",
       "1  8e686305-a622-4f24-ba0a-478fcbbee32c             Commercial_Auto   2085.0   \n",
       "2  f13a4b1b-f1fe3-3e49-f60c2-824c38e79a  Business_Owners_Policy_BOP    607.0   \n",
       "3  8f58d58a-762b-40b2-8a9e-6adaa4c31ea5        Workers_Compensation    779.0   \n",
       "4  76eaf5b0-ed02d-3d49-15cf5-3745425c15        Workers_Compensation  10086.0   \n",
       "\n",
       "   carrier_id  convert  \n",
       "0          29        0  \n",
       "1           9        0  \n",
       "2          60        0  \n",
       "3          22        1  \n",
       "4          29        1  "
      ]
     },
     "metadata": {},
     "output_type": "display_data"
    }
   ],
   "source": [
    "print(accounts_train.shape)\n",
    "display(accounts_train.head())\n",
    "\n",
    "print(quotes_train.shape)\n",
    "display(quotes_train.head())"
   ]
  },
  {
   "cell_type": "code",
   "execution_count": 7,
   "id": "223c05a6",
   "metadata": {
    "ExecuteTime": {
     "end_time": "2022-10-24T16:03:09.392409Z",
     "start_time": "2022-10-24T16:03:09.377395Z"
    }
   },
   "outputs": [
    {
     "name": "stdout",
     "output_type": "stream",
     "text": [
      "(2448, 9)\n"
     ]
    },
    {
     "data": {
      "text/html": [
       "<div>\n",
       "<style scoped>\n",
       "    .dataframe tbody tr th:only-of-type {\n",
       "        vertical-align: middle;\n",
       "    }\n",
       "\n",
       "    .dataframe tbody tr th {\n",
       "        vertical-align: top;\n",
       "    }\n",
       "\n",
       "    .dataframe thead th {\n",
       "        text-align: right;\n",
       "    }\n",
       "</style>\n",
       "<table border=\"1\" class=\"dataframe\">\n",
       "  <thead>\n",
       "    <tr style=\"text-align: right;\">\n",
       "      <th></th>\n",
       "      <th>account_uuid</th>\n",
       "      <th>state</th>\n",
       "      <th>industry</th>\n",
       "      <th>subindustry</th>\n",
       "      <th>year_established</th>\n",
       "      <th>annual_revenue</th>\n",
       "      <th>total_payroll</th>\n",
       "      <th>business_structure</th>\n",
       "      <th>num_employees</th>\n",
       "    </tr>\n",
       "  </thead>\n",
       "  <tbody>\n",
       "    <tr>\n",
       "      <th>0</th>\n",
       "      <td>7c7089b9-30cc6-c5fc-9f5c8-1e4ce6a8c3</td>\n",
       "      <td>FL</td>\n",
       "      <td>Technology, Media and Telecommunications</td>\n",
       "      <td>Software Publishers</td>\n",
       "      <td>2014.0</td>\n",
       "      <td>1200000.0</td>\n",
       "      <td>1000000.0</td>\n",
       "      <td>Corporation</td>\n",
       "      <td>11.0</td>\n",
       "    </tr>\n",
       "    <tr>\n",
       "      <th>1</th>\n",
       "      <td>bf68dd36-7dc94-0f5d-ebad4-19c0cdcdc7</td>\n",
       "      <td>TX</td>\n",
       "      <td>Administrative Services and Building Maintenance</td>\n",
       "      <td>Carpet and Upholstery Cleaning Services</td>\n",
       "      <td>2017.0</td>\n",
       "      <td>75000.0</td>\n",
       "      <td>1.0</td>\n",
       "      <td>Individual</td>\n",
       "      <td>0.0</td>\n",
       "    </tr>\n",
       "    <tr>\n",
       "      <th>2</th>\n",
       "      <td>fc97744d-9e9a-47a9-b923-1e2c3016c896</td>\n",
       "      <td>CA</td>\n",
       "      <td>Healthcare</td>\n",
       "      <td>Diagnostic Imaging Centers</td>\n",
       "      <td>2018.0</td>\n",
       "      <td>500000.0</td>\n",
       "      <td>70000.0</td>\n",
       "      <td>Limited Liability Company</td>\n",
       "      <td>3.0</td>\n",
       "    </tr>\n",
       "    <tr>\n",
       "      <th>3</th>\n",
       "      <td>0484a0e0-3c35e-0d2a-14c01-0220295202</td>\n",
       "      <td>CO</td>\n",
       "      <td>Consultants</td>\n",
       "      <td>Administrative Management and General Manageme...</td>\n",
       "      <td>2017.0</td>\n",
       "      <td>70000.0</td>\n",
       "      <td>0.0</td>\n",
       "      <td>Individual</td>\n",
       "      <td>0.0</td>\n",
       "    </tr>\n",
       "    <tr>\n",
       "      <th>4</th>\n",
       "      <td>673e8fb9-23833-3654-c6082-67470cfedb</td>\n",
       "      <td>AL</td>\n",
       "      <td>NaN</td>\n",
       "      <td>NaN</td>\n",
       "      <td>2017.0</td>\n",
       "      <td>156000.0</td>\n",
       "      <td>0.0</td>\n",
       "      <td>Other</td>\n",
       "      <td>0.0</td>\n",
       "    </tr>\n",
       "  </tbody>\n",
       "</table>\n",
       "</div>"
      ],
      "text/plain": [
       "                           account_uuid state  \\\n",
       "0  7c7089b9-30cc6-c5fc-9f5c8-1e4ce6a8c3    FL   \n",
       "1  bf68dd36-7dc94-0f5d-ebad4-19c0cdcdc7    TX   \n",
       "2  fc97744d-9e9a-47a9-b923-1e2c3016c896    CA   \n",
       "3  0484a0e0-3c35e-0d2a-14c01-0220295202    CO   \n",
       "4  673e8fb9-23833-3654-c6082-67470cfedb    AL   \n",
       "\n",
       "                                           industry  \\\n",
       "0          Technology, Media and Telecommunications   \n",
       "1  Administrative Services and Building Maintenance   \n",
       "2                                        Healthcare   \n",
       "3                                       Consultants   \n",
       "4                                               NaN   \n",
       "\n",
       "                                         subindustry  year_established  \\\n",
       "0                                Software Publishers            2014.0   \n",
       "1            Carpet and Upholstery Cleaning Services            2017.0   \n",
       "2                         Diagnostic Imaging Centers            2018.0   \n",
       "3  Administrative Management and General Manageme...            2017.0   \n",
       "4                                                NaN            2017.0   \n",
       "\n",
       "   annual_revenue  total_payroll         business_structure  num_employees  \n",
       "0       1200000.0      1000000.0                Corporation           11.0  \n",
       "1         75000.0            1.0                 Individual            0.0  \n",
       "2        500000.0        70000.0  Limited Liability Company            3.0  \n",
       "3         70000.0            0.0                 Individual            0.0  \n",
       "4        156000.0            0.0                      Other            0.0  "
      ]
     },
     "metadata": {},
     "output_type": "display_data"
    },
    {
     "name": "stdout",
     "output_type": "stream",
     "text": [
      "(5005, 4)\n"
     ]
    },
    {
     "data": {
      "text/html": [
       "<div>\n",
       "<style scoped>\n",
       "    .dataframe tbody tr th:only-of-type {\n",
       "        vertical-align: middle;\n",
       "    }\n",
       "\n",
       "    .dataframe tbody tr th {\n",
       "        vertical-align: top;\n",
       "    }\n",
       "\n",
       "    .dataframe thead th {\n",
       "        text-align: right;\n",
       "    }\n",
       "</style>\n",
       "<table border=\"1\" class=\"dataframe\">\n",
       "  <thead>\n",
       "    <tr style=\"text-align: right;\">\n",
       "      <th></th>\n",
       "      <th>account_uuid</th>\n",
       "      <th>product</th>\n",
       "      <th>premium</th>\n",
       "      <th>carrier_id</th>\n",
       "    </tr>\n",
       "  </thead>\n",
       "  <tbody>\n",
       "    <tr>\n",
       "      <th>0</th>\n",
       "      <td>cadb76f5-2f0ad-a78b-6c138-001288b999</td>\n",
       "      <td>Business_Owners_Policy_BOP</td>\n",
       "      <td>518.0</td>\n",
       "      <td>60</td>\n",
       "    </tr>\n",
       "    <tr>\n",
       "      <th>1</th>\n",
       "      <td>cadb76f5-2f0ad-a78b-6c138-001288b999</td>\n",
       "      <td>Business_Owners_Policy_BOP</td>\n",
       "      <td>542.0</td>\n",
       "      <td>60</td>\n",
       "    </tr>\n",
       "    <tr>\n",
       "      <th>2</th>\n",
       "      <td>d8aed557-aa49-4e6c-8f1d-860fa56e633f</td>\n",
       "      <td>General_Liability</td>\n",
       "      <td>500.0</td>\n",
       "      <td>39</td>\n",
       "    </tr>\n",
       "    <tr>\n",
       "      <th>3</th>\n",
       "      <td>08ec2c90-b3037-3f8e-429af-f834f19937</td>\n",
       "      <td>Business_Owners_Policy_BOP</td>\n",
       "      <td>500.0</td>\n",
       "      <td>31</td>\n",
       "    </tr>\n",
       "    <tr>\n",
       "      <th>4</th>\n",
       "      <td>14a4b644-740b-454e-8872-3460fda39092</td>\n",
       "      <td>CW_Professional_Liability</td>\n",
       "      <td>400.0</td>\n",
       "      <td>31</td>\n",
       "    </tr>\n",
       "  </tbody>\n",
       "</table>\n",
       "</div>"
      ],
      "text/plain": [
       "                           account_uuid                     product  premium  \\\n",
       "0  cadb76f5-2f0ad-a78b-6c138-001288b999  Business_Owners_Policy_BOP    518.0   \n",
       "1  cadb76f5-2f0ad-a78b-6c138-001288b999  Business_Owners_Policy_BOP    542.0   \n",
       "2  d8aed557-aa49-4e6c-8f1d-860fa56e633f           General_Liability    500.0   \n",
       "3  08ec2c90-b3037-3f8e-429af-f834f19937  Business_Owners_Policy_BOP    500.0   \n",
       "4  14a4b644-740b-454e-8872-3460fda39092   CW_Professional_Liability    400.0   \n",
       "\n",
       "   carrier_id  \n",
       "0          60  \n",
       "1          60  \n",
       "2          39  \n",
       "3          31  \n",
       "4          31  "
      ]
     },
     "metadata": {},
     "output_type": "display_data"
    }
   ],
   "source": [
    "print(accounts_test.shape)\n",
    "display(accounts_test.head())\n",
    "\n",
    "print(quotes_test.shape)\n",
    "display(quotes_test.head())"
   ]
  },
  {
   "cell_type": "markdown",
   "id": "e015f093",
   "metadata": {},
   "source": [
    "# **`--- PROCESS DATA ---`**"
   ]
  },
  {
   "cell_type": "code",
   "execution_count": 8,
   "id": "750d7d79",
   "metadata": {
    "ExecuteTime": {
     "end_time": "2022-10-24T16:03:09.407423Z",
     "start_time": "2022-10-24T16:03:09.393411Z"
    }
   },
   "outputs": [
    {
     "data": {
      "text/plain": [
       "0"
      ]
     },
     "execution_count": 8,
     "metadata": {},
     "output_type": "execute_result"
    }
   ],
   "source": [
    "# -- ¿EXISTE ALGÚN REGISTRO DUPLICADO? --\n",
    "\n",
    "accounts_train.duplicated().sum()"
   ]
  },
  {
   "cell_type": "code",
   "execution_count": 9,
   "id": "988f3ae6",
   "metadata": {
    "ExecuteTime": {
     "end_time": "2022-10-24T16:03:09.438451Z",
     "start_time": "2022-10-24T16:03:09.408424Z"
    }
   },
   "outputs": [
    {
     "data": {
      "text/html": [
       "<div>\n",
       "<style scoped>\n",
       "    .dataframe tbody tr th:only-of-type {\n",
       "        vertical-align: middle;\n",
       "    }\n",
       "\n",
       "    .dataframe tbody tr th {\n",
       "        vertical-align: top;\n",
       "    }\n",
       "\n",
       "    .dataframe thead th {\n",
       "        text-align: right;\n",
       "    }\n",
       "</style>\n",
       "<table border=\"1\" class=\"dataframe\">\n",
       "  <thead>\n",
       "    <tr style=\"text-align: right;\">\n",
       "      <th></th>\n",
       "      <th>account_uuid</th>\n",
       "      <th>state</th>\n",
       "      <th>industry</th>\n",
       "      <th>subindustry</th>\n",
       "      <th>year_established</th>\n",
       "      <th>annual_revenue</th>\n",
       "      <th>total_payroll</th>\n",
       "      <th>business_structure</th>\n",
       "      <th>num_employees</th>\n",
       "      <th>product</th>\n",
       "      <th>premium</th>\n",
       "      <th>carrier_id</th>\n",
       "      <th>convert</th>\n",
       "    </tr>\n",
       "  </thead>\n",
       "  <tbody>\n",
       "    <tr>\n",
       "      <th>0</th>\n",
       "      <td>4de966ca-b13f-4133-acd2-d516328062fc</td>\n",
       "      <td>PA</td>\n",
       "      <td>Retail Trade</td>\n",
       "      <td>Landscaping Services</td>\n",
       "      <td>2012.0</td>\n",
       "      <td>120000.0</td>\n",
       "      <td>50000.0</td>\n",
       "      <td>Limited Liability Company</td>\n",
       "      <td>4.0</td>\n",
       "      <td>General_Liability</td>\n",
       "      <td>1177.0</td>\n",
       "      <td>39</td>\n",
       "      <td>0</td>\n",
       "    </tr>\n",
       "    <tr>\n",
       "      <th>1</th>\n",
       "      <td>4de966ca-b13f-4133-acd2-d516328062fc</td>\n",
       "      <td>PA</td>\n",
       "      <td>Retail Trade</td>\n",
       "      <td>Landscaping Services</td>\n",
       "      <td>2012.0</td>\n",
       "      <td>120000.0</td>\n",
       "      <td>50000.0</td>\n",
       "      <td>Limited Liability Company</td>\n",
       "      <td>4.0</td>\n",
       "      <td>General_Liability</td>\n",
       "      <td>1908.0</td>\n",
       "      <td>31</td>\n",
       "      <td>1</td>\n",
       "    </tr>\n",
       "    <tr>\n",
       "      <th>2</th>\n",
       "      <td>85ec3b0c-8f89c-232b-6be4c-d033c5a52e</td>\n",
       "      <td>TX</td>\n",
       "      <td>Contractors</td>\n",
       "      <td>Electrical Contractors and Other Wiring Instal...</td>\n",
       "      <td>2012.0</td>\n",
       "      <td>60000.0</td>\n",
       "      <td>40000.0</td>\n",
       "      <td>Limited Liability Company</td>\n",
       "      <td>1.0</td>\n",
       "      <td>Business_Owners_Policy_BOP</td>\n",
       "      <td>970.0</td>\n",
       "      <td>30</td>\n",
       "      <td>1</td>\n",
       "    </tr>\n",
       "    <tr>\n",
       "      <th>3</th>\n",
       "      <td>0fb1f276-95a95-9332-6927f-7e2dc3e610</td>\n",
       "      <td>NY</td>\n",
       "      <td>NaN</td>\n",
       "      <td>NaN</td>\n",
       "      <td>2016.0</td>\n",
       "      <td>150000.0</td>\n",
       "      <td>0.0</td>\n",
       "      <td>Corporation</td>\n",
       "      <td>0.0</td>\n",
       "      <td>General_Liability</td>\n",
       "      <td>816.0</td>\n",
       "      <td>31</td>\n",
       "      <td>1</td>\n",
       "    </tr>\n",
       "    <tr>\n",
       "      <th>4</th>\n",
       "      <td>5fe23456-f37a8-3c12-7a731-477f60edb9</td>\n",
       "      <td>CA</td>\n",
       "      <td>Professional, Scientific and Technical Services</td>\n",
       "      <td>Architectural Services</td>\n",
       "      <td>2015.0</td>\n",
       "      <td>75000.0</td>\n",
       "      <td>55000.0</td>\n",
       "      <td>Limited Liability Company</td>\n",
       "      <td>0.0</td>\n",
       "      <td>CW_Inland_Marine</td>\n",
       "      <td>500.0</td>\n",
       "      <td>39</td>\n",
       "      <td>1</td>\n",
       "    </tr>\n",
       "    <tr>\n",
       "      <th>...</th>\n",
       "      <td>...</td>\n",
       "      <td>...</td>\n",
       "      <td>...</td>\n",
       "      <td>...</td>\n",
       "      <td>...</td>\n",
       "      <td>...</td>\n",
       "      <td>...</td>\n",
       "      <td>...</td>\n",
       "      <td>...</td>\n",
       "      <td>...</td>\n",
       "      <td>...</td>\n",
       "      <td>...</td>\n",
       "      <td>...</td>\n",
       "    </tr>\n",
       "    <tr>\n",
       "      <th>11719</th>\n",
       "      <td>a068e7be-f6439-8d8b-2c28e-c137ab0bb8</td>\n",
       "      <td>OK</td>\n",
       "      <td>Retail Trade</td>\n",
       "      <td>Cosmetics, Beauty Supplies, and Perfume Stores</td>\n",
       "      <td>2018.0</td>\n",
       "      <td>24000.0</td>\n",
       "      <td>0.0</td>\n",
       "      <td>Partnership</td>\n",
       "      <td>0.0</td>\n",
       "      <td>Business_Owners_Policy_BOP</td>\n",
       "      <td>475.0</td>\n",
       "      <td>30</td>\n",
       "      <td>0</td>\n",
       "    </tr>\n",
       "    <tr>\n",
       "      <th>11720</th>\n",
       "      <td>a068e7be-f6439-8d8b-2c28e-c137ab0bb8</td>\n",
       "      <td>OK</td>\n",
       "      <td>Retail Trade</td>\n",
       "      <td>Cosmetics, Beauty Supplies, and Perfume Stores</td>\n",
       "      <td>2018.0</td>\n",
       "      <td>24000.0</td>\n",
       "      <td>0.0</td>\n",
       "      <td>Partnership</td>\n",
       "      <td>0.0</td>\n",
       "      <td>Business_Owners_Policy_BOP</td>\n",
       "      <td>600.0</td>\n",
       "      <td>39</td>\n",
       "      <td>0</td>\n",
       "    </tr>\n",
       "    <tr>\n",
       "      <th>11721</th>\n",
       "      <td>a068e7be-f6439-8d8b-2c28e-c137ab0bb8</td>\n",
       "      <td>OK</td>\n",
       "      <td>Retail Trade</td>\n",
       "      <td>Cosmetics, Beauty Supplies, and Perfume Stores</td>\n",
       "      <td>2018.0</td>\n",
       "      <td>24000.0</td>\n",
       "      <td>0.0</td>\n",
       "      <td>Partnership</td>\n",
       "      <td>0.0</td>\n",
       "      <td>Business_Owners_Policy_BOP</td>\n",
       "      <td>500.0</td>\n",
       "      <td>60</td>\n",
       "      <td>0</td>\n",
       "    </tr>\n",
       "    <tr>\n",
       "      <th>11722</th>\n",
       "      <td>a068e7be-f6439-8d8b-2c28e-c137ab0bb8</td>\n",
       "      <td>OK</td>\n",
       "      <td>Retail Trade</td>\n",
       "      <td>Cosmetics, Beauty Supplies, and Perfume Stores</td>\n",
       "      <td>2018.0</td>\n",
       "      <td>24000.0</td>\n",
       "      <td>0.0</td>\n",
       "      <td>Partnership</td>\n",
       "      <td>0.0</td>\n",
       "      <td>Business_Owners_Policy_BOP</td>\n",
       "      <td>500.0</td>\n",
       "      <td>60</td>\n",
       "      <td>0</td>\n",
       "    </tr>\n",
       "    <tr>\n",
       "      <th>11723</th>\n",
       "      <td>a068e7be-f6439-8d8b-2c28e-c137ab0bb8</td>\n",
       "      <td>OK</td>\n",
       "      <td>Retail Trade</td>\n",
       "      <td>Cosmetics, Beauty Supplies, and Perfume Stores</td>\n",
       "      <td>2018.0</td>\n",
       "      <td>24000.0</td>\n",
       "      <td>0.0</td>\n",
       "      <td>Partnership</td>\n",
       "      <td>0.0</td>\n",
       "      <td>Business_Owners_Policy_BOP</td>\n",
       "      <td>500.0</td>\n",
       "      <td>60</td>\n",
       "      <td>0</td>\n",
       "    </tr>\n",
       "  </tbody>\n",
       "</table>\n",
       "<p>11724 rows × 13 columns</p>\n",
       "</div>"
      ],
      "text/plain": [
       "                               account_uuid state  \\\n",
       "0      4de966ca-b13f-4133-acd2-d516328062fc    PA   \n",
       "1      4de966ca-b13f-4133-acd2-d516328062fc    PA   \n",
       "2      85ec3b0c-8f89c-232b-6be4c-d033c5a52e    TX   \n",
       "3      0fb1f276-95a95-9332-6927f-7e2dc3e610    NY   \n",
       "4      5fe23456-f37a8-3c12-7a731-477f60edb9    CA   \n",
       "...                                     ...   ...   \n",
       "11719  a068e7be-f6439-8d8b-2c28e-c137ab0bb8    OK   \n",
       "11720  a068e7be-f6439-8d8b-2c28e-c137ab0bb8    OK   \n",
       "11721  a068e7be-f6439-8d8b-2c28e-c137ab0bb8    OK   \n",
       "11722  a068e7be-f6439-8d8b-2c28e-c137ab0bb8    OK   \n",
       "11723  a068e7be-f6439-8d8b-2c28e-c137ab0bb8    OK   \n",
       "\n",
       "                                              industry  \\\n",
       "0                                         Retail Trade   \n",
       "1                                         Retail Trade   \n",
       "2                                          Contractors   \n",
       "3                                                  NaN   \n",
       "4      Professional, Scientific and Technical Services   \n",
       "...                                                ...   \n",
       "11719                                     Retail Trade   \n",
       "11720                                     Retail Trade   \n",
       "11721                                     Retail Trade   \n",
       "11722                                     Retail Trade   \n",
       "11723                                     Retail Trade   \n",
       "\n",
       "                                             subindustry  year_established  \\\n",
       "0                                   Landscaping Services            2012.0   \n",
       "1                                   Landscaping Services            2012.0   \n",
       "2      Electrical Contractors and Other Wiring Instal...            2012.0   \n",
       "3                                                    NaN            2016.0   \n",
       "4                                 Architectural Services            2015.0   \n",
       "...                                                  ...               ...   \n",
       "11719     Cosmetics, Beauty Supplies, and Perfume Stores            2018.0   \n",
       "11720     Cosmetics, Beauty Supplies, and Perfume Stores            2018.0   \n",
       "11721     Cosmetics, Beauty Supplies, and Perfume Stores            2018.0   \n",
       "11722     Cosmetics, Beauty Supplies, and Perfume Stores            2018.0   \n",
       "11723     Cosmetics, Beauty Supplies, and Perfume Stores            2018.0   \n",
       "\n",
       "       annual_revenue  total_payroll         business_structure  \\\n",
       "0            120000.0        50000.0  Limited Liability Company   \n",
       "1            120000.0        50000.0  Limited Liability Company   \n",
       "2             60000.0        40000.0  Limited Liability Company   \n",
       "3            150000.0            0.0                Corporation   \n",
       "4             75000.0        55000.0  Limited Liability Company   \n",
       "...               ...            ...                        ...   \n",
       "11719         24000.0            0.0                Partnership   \n",
       "11720         24000.0            0.0                Partnership   \n",
       "11721         24000.0            0.0                Partnership   \n",
       "11722         24000.0            0.0                Partnership   \n",
       "11723         24000.0            0.0                Partnership   \n",
       "\n",
       "       num_employees                     product  premium  carrier_id  convert  \n",
       "0                4.0           General_Liability   1177.0          39        0  \n",
       "1                4.0           General_Liability   1908.0          31        1  \n",
       "2                1.0  Business_Owners_Policy_BOP    970.0          30        1  \n",
       "3                0.0           General_Liability    816.0          31        1  \n",
       "4                0.0            CW_Inland_Marine    500.0          39        1  \n",
       "...              ...                         ...      ...         ...      ...  \n",
       "11719            0.0  Business_Owners_Policy_BOP    475.0          30        0  \n",
       "11720            0.0  Business_Owners_Policy_BOP    600.0          39        0  \n",
       "11721            0.0  Business_Owners_Policy_BOP    500.0          60        0  \n",
       "11722            0.0  Business_Owners_Policy_BOP    500.0          60        0  \n",
       "11723            0.0  Business_Owners_Policy_BOP    500.0          60        0  \n",
       "\n",
       "[11724 rows x 13 columns]"
      ]
     },
     "execution_count": 9,
     "metadata": {},
     "output_type": "execute_result"
    }
   ],
   "source": [
    "train = accounts_train.merge(quotes_train, how='left', on='account_uuid')\n",
    "train"
   ]
  },
  {
   "cell_type": "code",
   "execution_count": 10,
   "id": "4119cc4f",
   "metadata": {
    "ExecuteTime": {
     "end_time": "2022-10-24T16:03:09.454466Z",
     "start_time": "2022-10-24T16:03:09.439452Z"
    }
   },
   "outputs": [
    {
     "data": {
      "text/plain": [
       "c4748583-d523-4e8a-ab15-a5d3f20b10c6    29\n",
       "da3d158b-7ce2-4b82-9fed-803f44323318    17\n",
       "9b8c44ea-07902-4234-63cdd-4754d71527    16\n",
       "8e01a3b0-ac57-418f-84bd-fab81df699d4    15\n",
       "df65c541-40d4-4610-997d-b6703007daeb    14\n",
       "40306000-a74f5-a9c7-bc993-59fcadfe16    13\n",
       "33d056e9-3561-480a-8377-99ba7ce53aa8    13\n",
       "e11b13c3-53ebb-ba34-17f72-ce7ad2445c    13\n",
       "3635157b-cb27-4fac-b886-f29a1e0318c0    12\n",
       "3f66f232-b7d9b-ab83-a113c-847dde9e76    12\n",
       "Name: account_uuid, dtype: int64"
      ]
     },
     "execution_count": 10,
     "metadata": {},
     "output_type": "execute_result"
    }
   ],
   "source": [
    "# -- USERS CON MÁS TRANSACCIONES --\n",
    "\n",
    "train['account_uuid'].value_counts(dropna=False).head(10)"
   ]
  },
  {
   "cell_type": "code",
   "execution_count": 11,
   "id": "cfce90bd",
   "metadata": {
    "ExecuteTime": {
     "end_time": "2022-10-24T16:03:09.470481Z",
     "start_time": "2022-10-24T16:03:09.455467Z"
    }
   },
   "outputs": [
    {
     "data": {
      "text/html": [
       "<div>\n",
       "<style scoped>\n",
       "    .dataframe tbody tr th:only-of-type {\n",
       "        vertical-align: middle;\n",
       "    }\n",
       "\n",
       "    .dataframe tbody tr th {\n",
       "        vertical-align: top;\n",
       "    }\n",
       "\n",
       "    .dataframe thead th {\n",
       "        text-align: right;\n",
       "    }\n",
       "</style>\n",
       "<table border=\"1\" class=\"dataframe\">\n",
       "  <thead>\n",
       "    <tr style=\"text-align: right;\">\n",
       "      <th></th>\n",
       "      <th>account_uuid</th>\n",
       "      <th>state</th>\n",
       "      <th>industry</th>\n",
       "      <th>subindustry</th>\n",
       "      <th>year_established</th>\n",
       "      <th>annual_revenue</th>\n",
       "      <th>total_payroll</th>\n",
       "      <th>business_structure</th>\n",
       "      <th>num_employees</th>\n",
       "      <th>product</th>\n",
       "      <th>premium</th>\n",
       "      <th>carrier_id</th>\n",
       "      <th>convert</th>\n",
       "      <th>account_value_by_product</th>\n",
       "    </tr>\n",
       "  </thead>\n",
       "  <tbody>\n",
       "    <tr>\n",
       "      <th>0</th>\n",
       "      <td>4de966ca-b13f-4133-acd2-d516328062fc</td>\n",
       "      <td>PA</td>\n",
       "      <td>Retail Trade</td>\n",
       "      <td>Landscaping Services</td>\n",
       "      <td>2012.0</td>\n",
       "      <td>120000.0</td>\n",
       "      <td>50000.0</td>\n",
       "      <td>Limited Liability Company</td>\n",
       "      <td>4.0</td>\n",
       "      <td>General_Liability</td>\n",
       "      <td>1177.0</td>\n",
       "      <td>39</td>\n",
       "      <td>0</td>\n",
       "      <td>0.0</td>\n",
       "    </tr>\n",
       "    <tr>\n",
       "      <th>1</th>\n",
       "      <td>4de966ca-b13f-4133-acd2-d516328062fc</td>\n",
       "      <td>PA</td>\n",
       "      <td>Retail Trade</td>\n",
       "      <td>Landscaping Services</td>\n",
       "      <td>2012.0</td>\n",
       "      <td>120000.0</td>\n",
       "      <td>50000.0</td>\n",
       "      <td>Limited Liability Company</td>\n",
       "      <td>4.0</td>\n",
       "      <td>General_Liability</td>\n",
       "      <td>1908.0</td>\n",
       "      <td>31</td>\n",
       "      <td>1</td>\n",
       "      <td>1908.0</td>\n",
       "    </tr>\n",
       "    <tr>\n",
       "      <th>2</th>\n",
       "      <td>85ec3b0c-8f89c-232b-6be4c-d033c5a52e</td>\n",
       "      <td>TX</td>\n",
       "      <td>Contractors</td>\n",
       "      <td>Electrical Contractors and Other Wiring Instal...</td>\n",
       "      <td>2012.0</td>\n",
       "      <td>60000.0</td>\n",
       "      <td>40000.0</td>\n",
       "      <td>Limited Liability Company</td>\n",
       "      <td>1.0</td>\n",
       "      <td>Business_Owners_Policy_BOP</td>\n",
       "      <td>970.0</td>\n",
       "      <td>30</td>\n",
       "      <td>1</td>\n",
       "      <td>970.0</td>\n",
       "    </tr>\n",
       "    <tr>\n",
       "      <th>3</th>\n",
       "      <td>0fb1f276-95a95-9332-6927f-7e2dc3e610</td>\n",
       "      <td>NY</td>\n",
       "      <td>NaN</td>\n",
       "      <td>NaN</td>\n",
       "      <td>2016.0</td>\n",
       "      <td>150000.0</td>\n",
       "      <td>0.0</td>\n",
       "      <td>Corporation</td>\n",
       "      <td>0.0</td>\n",
       "      <td>General_Liability</td>\n",
       "      <td>816.0</td>\n",
       "      <td>31</td>\n",
       "      <td>1</td>\n",
       "      <td>816.0</td>\n",
       "    </tr>\n",
       "    <tr>\n",
       "      <th>4</th>\n",
       "      <td>5fe23456-f37a8-3c12-7a731-477f60edb9</td>\n",
       "      <td>CA</td>\n",
       "      <td>Professional, Scientific and Technical Services</td>\n",
       "      <td>Architectural Services</td>\n",
       "      <td>2015.0</td>\n",
       "      <td>75000.0</td>\n",
       "      <td>55000.0</td>\n",
       "      <td>Limited Liability Company</td>\n",
       "      <td>0.0</td>\n",
       "      <td>CW_Inland_Marine</td>\n",
       "      <td>500.0</td>\n",
       "      <td>39</td>\n",
       "      <td>1</td>\n",
       "      <td>500.0</td>\n",
       "    </tr>\n",
       "    <tr>\n",
       "      <th>...</th>\n",
       "      <td>...</td>\n",
       "      <td>...</td>\n",
       "      <td>...</td>\n",
       "      <td>...</td>\n",
       "      <td>...</td>\n",
       "      <td>...</td>\n",
       "      <td>...</td>\n",
       "      <td>...</td>\n",
       "      <td>...</td>\n",
       "      <td>...</td>\n",
       "      <td>...</td>\n",
       "      <td>...</td>\n",
       "      <td>...</td>\n",
       "      <td>...</td>\n",
       "    </tr>\n",
       "    <tr>\n",
       "      <th>11719</th>\n",
       "      <td>a068e7be-f6439-8d8b-2c28e-c137ab0bb8</td>\n",
       "      <td>OK</td>\n",
       "      <td>Retail Trade</td>\n",
       "      <td>Cosmetics, Beauty Supplies, and Perfume Stores</td>\n",
       "      <td>2018.0</td>\n",
       "      <td>24000.0</td>\n",
       "      <td>0.0</td>\n",
       "      <td>Partnership</td>\n",
       "      <td>0.0</td>\n",
       "      <td>Business_Owners_Policy_BOP</td>\n",
       "      <td>475.0</td>\n",
       "      <td>30</td>\n",
       "      <td>0</td>\n",
       "      <td>0.0</td>\n",
       "    </tr>\n",
       "    <tr>\n",
       "      <th>11720</th>\n",
       "      <td>a068e7be-f6439-8d8b-2c28e-c137ab0bb8</td>\n",
       "      <td>OK</td>\n",
       "      <td>Retail Trade</td>\n",
       "      <td>Cosmetics, Beauty Supplies, and Perfume Stores</td>\n",
       "      <td>2018.0</td>\n",
       "      <td>24000.0</td>\n",
       "      <td>0.0</td>\n",
       "      <td>Partnership</td>\n",
       "      <td>0.0</td>\n",
       "      <td>Business_Owners_Policy_BOP</td>\n",
       "      <td>600.0</td>\n",
       "      <td>39</td>\n",
       "      <td>0</td>\n",
       "      <td>0.0</td>\n",
       "    </tr>\n",
       "    <tr>\n",
       "      <th>11721</th>\n",
       "      <td>a068e7be-f6439-8d8b-2c28e-c137ab0bb8</td>\n",
       "      <td>OK</td>\n",
       "      <td>Retail Trade</td>\n",
       "      <td>Cosmetics, Beauty Supplies, and Perfume Stores</td>\n",
       "      <td>2018.0</td>\n",
       "      <td>24000.0</td>\n",
       "      <td>0.0</td>\n",
       "      <td>Partnership</td>\n",
       "      <td>0.0</td>\n",
       "      <td>Business_Owners_Policy_BOP</td>\n",
       "      <td>500.0</td>\n",
       "      <td>60</td>\n",
       "      <td>0</td>\n",
       "      <td>0.0</td>\n",
       "    </tr>\n",
       "    <tr>\n",
       "      <th>11722</th>\n",
       "      <td>a068e7be-f6439-8d8b-2c28e-c137ab0bb8</td>\n",
       "      <td>OK</td>\n",
       "      <td>Retail Trade</td>\n",
       "      <td>Cosmetics, Beauty Supplies, and Perfume Stores</td>\n",
       "      <td>2018.0</td>\n",
       "      <td>24000.0</td>\n",
       "      <td>0.0</td>\n",
       "      <td>Partnership</td>\n",
       "      <td>0.0</td>\n",
       "      <td>Business_Owners_Policy_BOP</td>\n",
       "      <td>500.0</td>\n",
       "      <td>60</td>\n",
       "      <td>0</td>\n",
       "      <td>0.0</td>\n",
       "    </tr>\n",
       "    <tr>\n",
       "      <th>11723</th>\n",
       "      <td>a068e7be-f6439-8d8b-2c28e-c137ab0bb8</td>\n",
       "      <td>OK</td>\n",
       "      <td>Retail Trade</td>\n",
       "      <td>Cosmetics, Beauty Supplies, and Perfume Stores</td>\n",
       "      <td>2018.0</td>\n",
       "      <td>24000.0</td>\n",
       "      <td>0.0</td>\n",
       "      <td>Partnership</td>\n",
       "      <td>0.0</td>\n",
       "      <td>Business_Owners_Policy_BOP</td>\n",
       "      <td>500.0</td>\n",
       "      <td>60</td>\n",
       "      <td>0</td>\n",
       "      <td>0.0</td>\n",
       "    </tr>\n",
       "  </tbody>\n",
       "</table>\n",
       "<p>11724 rows × 14 columns</p>\n",
       "</div>"
      ],
      "text/plain": [
       "                               account_uuid state  \\\n",
       "0      4de966ca-b13f-4133-acd2-d516328062fc    PA   \n",
       "1      4de966ca-b13f-4133-acd2-d516328062fc    PA   \n",
       "2      85ec3b0c-8f89c-232b-6be4c-d033c5a52e    TX   \n",
       "3      0fb1f276-95a95-9332-6927f-7e2dc3e610    NY   \n",
       "4      5fe23456-f37a8-3c12-7a731-477f60edb9    CA   \n",
       "...                                     ...   ...   \n",
       "11719  a068e7be-f6439-8d8b-2c28e-c137ab0bb8    OK   \n",
       "11720  a068e7be-f6439-8d8b-2c28e-c137ab0bb8    OK   \n",
       "11721  a068e7be-f6439-8d8b-2c28e-c137ab0bb8    OK   \n",
       "11722  a068e7be-f6439-8d8b-2c28e-c137ab0bb8    OK   \n",
       "11723  a068e7be-f6439-8d8b-2c28e-c137ab0bb8    OK   \n",
       "\n",
       "                                              industry  \\\n",
       "0                                         Retail Trade   \n",
       "1                                         Retail Trade   \n",
       "2                                          Contractors   \n",
       "3                                                  NaN   \n",
       "4      Professional, Scientific and Technical Services   \n",
       "...                                                ...   \n",
       "11719                                     Retail Trade   \n",
       "11720                                     Retail Trade   \n",
       "11721                                     Retail Trade   \n",
       "11722                                     Retail Trade   \n",
       "11723                                     Retail Trade   \n",
       "\n",
       "                                             subindustry  year_established  \\\n",
       "0                                   Landscaping Services            2012.0   \n",
       "1                                   Landscaping Services            2012.0   \n",
       "2      Electrical Contractors and Other Wiring Instal...            2012.0   \n",
       "3                                                    NaN            2016.0   \n",
       "4                                 Architectural Services            2015.0   \n",
       "...                                                  ...               ...   \n",
       "11719     Cosmetics, Beauty Supplies, and Perfume Stores            2018.0   \n",
       "11720     Cosmetics, Beauty Supplies, and Perfume Stores            2018.0   \n",
       "11721     Cosmetics, Beauty Supplies, and Perfume Stores            2018.0   \n",
       "11722     Cosmetics, Beauty Supplies, and Perfume Stores            2018.0   \n",
       "11723     Cosmetics, Beauty Supplies, and Perfume Stores            2018.0   \n",
       "\n",
       "       annual_revenue  total_payroll         business_structure  \\\n",
       "0            120000.0        50000.0  Limited Liability Company   \n",
       "1            120000.0        50000.0  Limited Liability Company   \n",
       "2             60000.0        40000.0  Limited Liability Company   \n",
       "3            150000.0            0.0                Corporation   \n",
       "4             75000.0        55000.0  Limited Liability Company   \n",
       "...               ...            ...                        ...   \n",
       "11719         24000.0            0.0                Partnership   \n",
       "11720         24000.0            0.0                Partnership   \n",
       "11721         24000.0            0.0                Partnership   \n",
       "11722         24000.0            0.0                Partnership   \n",
       "11723         24000.0            0.0                Partnership   \n",
       "\n",
       "       num_employees                     product  premium  carrier_id  \\\n",
       "0                4.0           General_Liability   1177.0          39   \n",
       "1                4.0           General_Liability   1908.0          31   \n",
       "2                1.0  Business_Owners_Policy_BOP    970.0          30   \n",
       "3                0.0           General_Liability    816.0          31   \n",
       "4                0.0            CW_Inland_Marine    500.0          39   \n",
       "...              ...                         ...      ...         ...   \n",
       "11719            0.0  Business_Owners_Policy_BOP    475.0          30   \n",
       "11720            0.0  Business_Owners_Policy_BOP    600.0          39   \n",
       "11721            0.0  Business_Owners_Policy_BOP    500.0          60   \n",
       "11722            0.0  Business_Owners_Policy_BOP    500.0          60   \n",
       "11723            0.0  Business_Owners_Policy_BOP    500.0          60   \n",
       "\n",
       "       convert  account_value_by_product  \n",
       "0            0                       0.0  \n",
       "1            1                    1908.0  \n",
       "2            1                     970.0  \n",
       "3            1                     816.0  \n",
       "4            1                     500.0  \n",
       "...        ...                       ...  \n",
       "11719        0                       0.0  \n",
       "11720        0                       0.0  \n",
       "11721        0                       0.0  \n",
       "11722        0                       0.0  \n",
       "11723        0                       0.0  \n",
       "\n",
       "[11724 rows x 14 columns]"
      ]
     },
     "execution_count": 11,
     "metadata": {},
     "output_type": "execute_result"
    }
   ],
   "source": [
    "train['account_value_by_product'] = train['premium']*train['convert']\n",
    "train"
   ]
  },
  {
   "cell_type": "code",
   "execution_count": 12,
   "id": "a9dec6b0",
   "metadata": {
    "ExecuteTime": {
     "end_time": "2022-10-24T16:03:09.486495Z",
     "start_time": "2022-10-24T16:03:09.471482Z"
    }
   },
   "outputs": [
    {
     "data": {
      "text/html": [
       "<div>\n",
       "<style scoped>\n",
       "    .dataframe tbody tr th:only-of-type {\n",
       "        vertical-align: middle;\n",
       "    }\n",
       "\n",
       "    .dataframe tbody tr th {\n",
       "        vertical-align: top;\n",
       "    }\n",
       "\n",
       "    .dataframe thead th {\n",
       "        text-align: right;\n",
       "    }\n",
       "</style>\n",
       "<table border=\"1\" class=\"dataframe\">\n",
       "  <thead>\n",
       "    <tr style=\"text-align: right;\">\n",
       "      <th></th>\n",
       "      <th>account_value</th>\n",
       "    </tr>\n",
       "    <tr>\n",
       "      <th>account_uuid</th>\n",
       "      <th></th>\n",
       "    </tr>\n",
       "  </thead>\n",
       "  <tbody>\n",
       "    <tr>\n",
       "      <th>d567d1ae-cab98-0820-aed64-89090c2705</th>\n",
       "      <td>134752.41</td>\n",
       "    </tr>\n",
       "    <tr>\n",
       "      <th>1b3cadf5-01e2e-cb7b-22c3d-4879388a68</th>\n",
       "      <td>62111.00</td>\n",
       "    </tr>\n",
       "    <tr>\n",
       "      <th>87047ec6-4ef1c-73fe-a7c25-53b93d54c2</th>\n",
       "      <td>52382.00</td>\n",
       "    </tr>\n",
       "    <tr>\n",
       "      <th>e1613a34-eca2-4589-940d-e49fe339a25c</th>\n",
       "      <td>46333.00</td>\n",
       "    </tr>\n",
       "    <tr>\n",
       "      <th>7435711d-b8cf-4bd0-b04d-49f6ae48aee2</th>\n",
       "      <td>45745.00</td>\n",
       "    </tr>\n",
       "    <tr>\n",
       "      <th>...</th>\n",
       "      <td>...</td>\n",
       "    </tr>\n",
       "    <tr>\n",
       "      <th>358d734f-7f694-1437-93da3-b4a91f50c4</th>\n",
       "      <td>144.00</td>\n",
       "    </tr>\n",
       "    <tr>\n",
       "      <th>0d7e97d4-d7340-6a32-1e535-69cb6ffa69</th>\n",
       "      <td>127.00</td>\n",
       "    </tr>\n",
       "    <tr>\n",
       "      <th>3aedab18-3f4b6-1cba-fc75b-853ebcd04e</th>\n",
       "      <td>108.00</td>\n",
       "    </tr>\n",
       "    <tr>\n",
       "      <th>6ffe2a9a-51c0-4b90-9d57-178fe670df53</th>\n",
       "      <td>50.00</td>\n",
       "    </tr>\n",
       "    <tr>\n",
       "      <th>1d2a3074-ebda-45c7-8244-cdb0e56d8f63</th>\n",
       "      <td>29.25</td>\n",
       "    </tr>\n",
       "  </tbody>\n",
       "</table>\n",
       "<p>5709 rows × 1 columns</p>\n",
       "</div>"
      ],
      "text/plain": [
       "                                      account_value\n",
       "account_uuid                                       \n",
       "d567d1ae-cab98-0820-aed64-89090c2705      134752.41\n",
       "1b3cadf5-01e2e-cb7b-22c3d-4879388a68       62111.00\n",
       "87047ec6-4ef1c-73fe-a7c25-53b93d54c2       52382.00\n",
       "e1613a34-eca2-4589-940d-e49fe339a25c       46333.00\n",
       "7435711d-b8cf-4bd0-b04d-49f6ae48aee2       45745.00\n",
       "...                                             ...\n",
       "358d734f-7f694-1437-93da3-b4a91f50c4         144.00\n",
       "0d7e97d4-d7340-6a32-1e535-69cb6ffa69         127.00\n",
       "3aedab18-3f4b6-1cba-fc75b-853ebcd04e         108.00\n",
       "6ffe2a9a-51c0-4b90-9d57-178fe670df53          50.00\n",
       "1d2a3074-ebda-45c7-8244-cdb0e56d8f63          29.25\n",
       "\n",
       "[5709 rows x 1 columns]"
      ]
     },
     "execution_count": 12,
     "metadata": {},
     "output_type": "execute_result"
    }
   ],
   "source": [
    "train_account_values = train.groupby('account_uuid')['account_value_by_product'].sum().to_frame().rename(columns={'account_value_by_product': 'account_value'}).sort_values(by='account_value', ascending=False)\n",
    "train_account_values"
   ]
  },
  {
   "cell_type": "code",
   "execution_count": 13,
   "id": "3fc81159",
   "metadata": {
    "ExecuteTime": {
     "end_time": "2022-10-24T16:03:09.502510Z",
     "start_time": "2022-10-24T16:03:09.487496Z"
    }
   },
   "outputs": [
    {
     "data": {
      "text/html": [
       "<div>\n",
       "<style scoped>\n",
       "    .dataframe tbody tr th:only-of-type {\n",
       "        vertical-align: middle;\n",
       "    }\n",
       "\n",
       "    .dataframe tbody tr th {\n",
       "        vertical-align: top;\n",
       "    }\n",
       "\n",
       "    .dataframe thead th {\n",
       "        text-align: right;\n",
       "    }\n",
       "</style>\n",
       "<table border=\"1\" class=\"dataframe\">\n",
       "  <thead>\n",
       "    <tr style=\"text-align: right;\">\n",
       "      <th></th>\n",
       "      <th>account_uuid</th>\n",
       "      <th>state</th>\n",
       "      <th>industry</th>\n",
       "      <th>subindustry</th>\n",
       "      <th>year_established</th>\n",
       "      <th>annual_revenue</th>\n",
       "      <th>total_payroll</th>\n",
       "      <th>business_structure</th>\n",
       "      <th>num_employees</th>\n",
       "      <th>product</th>\n",
       "      <th>premium</th>\n",
       "      <th>carrier_id</th>\n",
       "      <th>convert</th>\n",
       "      <th>account_value_by_product</th>\n",
       "    </tr>\n",
       "  </thead>\n",
       "  <tbody>\n",
       "    <tr>\n",
       "      <th>11166</th>\n",
       "      <td>d567d1ae-cab98-0820-aed64-89090c2705</td>\n",
       "      <td>NaN</td>\n",
       "      <td>Transportation and Warehousing</td>\n",
       "      <td>General Freight Trucking, Local</td>\n",
       "      <td>NaN</td>\n",
       "      <td>75000000.0</td>\n",
       "      <td>NaN</td>\n",
       "      <td>Not sure yet</td>\n",
       "      <td>NaN</td>\n",
       "      <td>General_Liability</td>\n",
       "      <td>75508.00</td>\n",
       "      <td>39</td>\n",
       "      <td>1</td>\n",
       "      <td>75508.00</td>\n",
       "    </tr>\n",
       "    <tr>\n",
       "      <th>11167</th>\n",
       "      <td>d567d1ae-cab98-0820-aed64-89090c2705</td>\n",
       "      <td>NaN</td>\n",
       "      <td>Transportation and Warehousing</td>\n",
       "      <td>General Freight Trucking, Local</td>\n",
       "      <td>NaN</td>\n",
       "      <td>75000000.0</td>\n",
       "      <td>NaN</td>\n",
       "      <td>Not sure yet</td>\n",
       "      <td>NaN</td>\n",
       "      <td>CW_Umbrella_Policy</td>\n",
       "      <td>20332.00</td>\n",
       "      <td>39</td>\n",
       "      <td>1</td>\n",
       "      <td>20332.00</td>\n",
       "    </tr>\n",
       "    <tr>\n",
       "      <th>11168</th>\n",
       "      <td>d567d1ae-cab98-0820-aed64-89090c2705</td>\n",
       "      <td>NaN</td>\n",
       "      <td>Transportation and Warehousing</td>\n",
       "      <td>General Freight Trucking, Local</td>\n",
       "      <td>NaN</td>\n",
       "      <td>75000000.0</td>\n",
       "      <td>NaN</td>\n",
       "      <td>Not sure yet</td>\n",
       "      <td>NaN</td>\n",
       "      <td>CW_Employment_Practices_Liability_Insurance_EPLI</td>\n",
       "      <td>14787.00</td>\n",
       "      <td>73</td>\n",
       "      <td>0</td>\n",
       "      <td>0.00</td>\n",
       "    </tr>\n",
       "    <tr>\n",
       "      <th>11169</th>\n",
       "      <td>d567d1ae-cab98-0820-aed64-89090c2705</td>\n",
       "      <td>NaN</td>\n",
       "      <td>Transportation and Warehousing</td>\n",
       "      <td>General Freight Trucking, Local</td>\n",
       "      <td>NaN</td>\n",
       "      <td>75000000.0</td>\n",
       "      <td>NaN</td>\n",
       "      <td>Not sure yet</td>\n",
       "      <td>NaN</td>\n",
       "      <td>CW_Employment_Practices_Liability_Insurance_EPLI</td>\n",
       "      <td>9682.00</td>\n",
       "      <td>31</td>\n",
       "      <td>0</td>\n",
       "      <td>0.00</td>\n",
       "    </tr>\n",
       "    <tr>\n",
       "      <th>11170</th>\n",
       "      <td>d567d1ae-cab98-0820-aed64-89090c2705</td>\n",
       "      <td>NaN</td>\n",
       "      <td>Transportation and Warehousing</td>\n",
       "      <td>General Freight Trucking, Local</td>\n",
       "      <td>NaN</td>\n",
       "      <td>75000000.0</td>\n",
       "      <td>NaN</td>\n",
       "      <td>Not sure yet</td>\n",
       "      <td>NaN</td>\n",
       "      <td>CW_Inland_Marine</td>\n",
       "      <td>500.00</td>\n",
       "      <td>39</td>\n",
       "      <td>1</td>\n",
       "      <td>500.00</td>\n",
       "    </tr>\n",
       "    <tr>\n",
       "      <th>11171</th>\n",
       "      <td>d567d1ae-cab98-0820-aed64-89090c2705</td>\n",
       "      <td>NaN</td>\n",
       "      <td>Transportation and Warehousing</td>\n",
       "      <td>General Freight Trucking, Local</td>\n",
       "      <td>NaN</td>\n",
       "      <td>75000000.0</td>\n",
       "      <td>NaN</td>\n",
       "      <td>Not sure yet</td>\n",
       "      <td>NaN</td>\n",
       "      <td>Commercial_Auto</td>\n",
       "      <td>17430.56</td>\n",
       "      <td>53</td>\n",
       "      <td>1</td>\n",
       "      <td>17430.56</td>\n",
       "    </tr>\n",
       "    <tr>\n",
       "      <th>11172</th>\n",
       "      <td>d567d1ae-cab98-0820-aed64-89090c2705</td>\n",
       "      <td>NaN</td>\n",
       "      <td>Transportation and Warehousing</td>\n",
       "      <td>General Freight Trucking, Local</td>\n",
       "      <td>NaN</td>\n",
       "      <td>75000000.0</td>\n",
       "      <td>NaN</td>\n",
       "      <td>Not sure yet</td>\n",
       "      <td>NaN</td>\n",
       "      <td>Commercial_Auto</td>\n",
       "      <td>27644.56</td>\n",
       "      <td>53</td>\n",
       "      <td>0</td>\n",
       "      <td>0.00</td>\n",
       "    </tr>\n",
       "    <tr>\n",
       "      <th>11173</th>\n",
       "      <td>d567d1ae-cab98-0820-aed64-89090c2705</td>\n",
       "      <td>NaN</td>\n",
       "      <td>Transportation and Warehousing</td>\n",
       "      <td>General Freight Trucking, Local</td>\n",
       "      <td>NaN</td>\n",
       "      <td>75000000.0</td>\n",
       "      <td>NaN</td>\n",
       "      <td>Not sure yet</td>\n",
       "      <td>NaN</td>\n",
       "      <td>CW_Employment_Practices_Liability_Insurance_EPLI</td>\n",
       "      <td>20981.85</td>\n",
       "      <td>73</td>\n",
       "      <td>1</td>\n",
       "      <td>20981.85</td>\n",
       "    </tr>\n",
       "  </tbody>\n",
       "</table>\n",
       "</div>"
      ],
      "text/plain": [
       "                               account_uuid state  \\\n",
       "11166  d567d1ae-cab98-0820-aed64-89090c2705   NaN   \n",
       "11167  d567d1ae-cab98-0820-aed64-89090c2705   NaN   \n",
       "11168  d567d1ae-cab98-0820-aed64-89090c2705   NaN   \n",
       "11169  d567d1ae-cab98-0820-aed64-89090c2705   NaN   \n",
       "11170  d567d1ae-cab98-0820-aed64-89090c2705   NaN   \n",
       "11171  d567d1ae-cab98-0820-aed64-89090c2705   NaN   \n",
       "11172  d567d1ae-cab98-0820-aed64-89090c2705   NaN   \n",
       "11173  d567d1ae-cab98-0820-aed64-89090c2705   NaN   \n",
       "\n",
       "                             industry                      subindustry  \\\n",
       "11166  Transportation and Warehousing  General Freight Trucking, Local   \n",
       "11167  Transportation and Warehousing  General Freight Trucking, Local   \n",
       "11168  Transportation and Warehousing  General Freight Trucking, Local   \n",
       "11169  Transportation and Warehousing  General Freight Trucking, Local   \n",
       "11170  Transportation and Warehousing  General Freight Trucking, Local   \n",
       "11171  Transportation and Warehousing  General Freight Trucking, Local   \n",
       "11172  Transportation and Warehousing  General Freight Trucking, Local   \n",
       "11173  Transportation and Warehousing  General Freight Trucking, Local   \n",
       "\n",
       "       year_established  annual_revenue  total_payroll business_structure  \\\n",
       "11166               NaN      75000000.0            NaN       Not sure yet   \n",
       "11167               NaN      75000000.0            NaN       Not sure yet   \n",
       "11168               NaN      75000000.0            NaN       Not sure yet   \n",
       "11169               NaN      75000000.0            NaN       Not sure yet   \n",
       "11170               NaN      75000000.0            NaN       Not sure yet   \n",
       "11171               NaN      75000000.0            NaN       Not sure yet   \n",
       "11172               NaN      75000000.0            NaN       Not sure yet   \n",
       "11173               NaN      75000000.0            NaN       Not sure yet   \n",
       "\n",
       "       num_employees                                           product  \\\n",
       "11166            NaN                                 General_Liability   \n",
       "11167            NaN                                CW_Umbrella_Policy   \n",
       "11168            NaN  CW_Employment_Practices_Liability_Insurance_EPLI   \n",
       "11169            NaN  CW_Employment_Practices_Liability_Insurance_EPLI   \n",
       "11170            NaN                                  CW_Inland_Marine   \n",
       "11171            NaN                                   Commercial_Auto   \n",
       "11172            NaN                                   Commercial_Auto   \n",
       "11173            NaN  CW_Employment_Practices_Liability_Insurance_EPLI   \n",
       "\n",
       "        premium  carrier_id  convert  account_value_by_product  \n",
       "11166  75508.00          39        1                  75508.00  \n",
       "11167  20332.00          39        1                  20332.00  \n",
       "11168  14787.00          73        0                      0.00  \n",
       "11169   9682.00          31        0                      0.00  \n",
       "11170    500.00          39        1                    500.00  \n",
       "11171  17430.56          53        1                  17430.56  \n",
       "11172  27644.56          53        0                      0.00  \n",
       "11173  20981.85          73        1                  20981.85  "
      ]
     },
     "execution_count": 13,
     "metadata": {},
     "output_type": "execute_result"
    }
   ],
   "source": [
    "# -- MIRAMOS CUÁL ES EL USER CON MAYOR account_value --\n",
    "\n",
    "train[train.account_uuid == \"d567d1ae-cab98-0820-aed64-89090c2705\"]"
   ]
  },
  {
   "cell_type": "code",
   "execution_count": 14,
   "id": "ba15dbba",
   "metadata": {
    "ExecuteTime": {
     "end_time": "2022-10-24T16:03:09.518524Z",
     "start_time": "2022-10-24T16:03:09.503510Z"
    }
   },
   "outputs": [
    {
     "data": {
      "text/html": [
       "<div>\n",
       "<style scoped>\n",
       "    .dataframe tbody tr th:only-of-type {\n",
       "        vertical-align: middle;\n",
       "    }\n",
       "\n",
       "    .dataframe tbody tr th {\n",
       "        vertical-align: top;\n",
       "    }\n",
       "\n",
       "    .dataframe thead th {\n",
       "        text-align: right;\n",
       "    }\n",
       "</style>\n",
       "<table border=\"1\" class=\"dataframe\">\n",
       "  <thead>\n",
       "    <tr style=\"text-align: right;\">\n",
       "      <th></th>\n",
       "      <th>account_uuid</th>\n",
       "      <th>state</th>\n",
       "      <th>industry</th>\n",
       "      <th>subindustry</th>\n",
       "      <th>year_established</th>\n",
       "      <th>annual_revenue</th>\n",
       "      <th>total_payroll</th>\n",
       "      <th>business_structure</th>\n",
       "      <th>num_employees</th>\n",
       "      <th>product</th>\n",
       "      <th>premium</th>\n",
       "      <th>carrier_id</th>\n",
       "      <th>convert</th>\n",
       "      <th>account_value</th>\n",
       "    </tr>\n",
       "  </thead>\n",
       "  <tbody>\n",
       "    <tr>\n",
       "      <th>0</th>\n",
       "      <td>4de966ca-b13f-4133-acd2-d516328062fc</td>\n",
       "      <td>PA</td>\n",
       "      <td>Retail Trade</td>\n",
       "      <td>Landscaping Services</td>\n",
       "      <td>2012.0</td>\n",
       "      <td>120000.0</td>\n",
       "      <td>50000.0</td>\n",
       "      <td>Limited Liability Company</td>\n",
       "      <td>4.0</td>\n",
       "      <td>General_Liability</td>\n",
       "      <td>1177.0</td>\n",
       "      <td>39</td>\n",
       "      <td>0</td>\n",
       "      <td>1908.0</td>\n",
       "    </tr>\n",
       "    <tr>\n",
       "      <th>1</th>\n",
       "      <td>4de966ca-b13f-4133-acd2-d516328062fc</td>\n",
       "      <td>PA</td>\n",
       "      <td>Retail Trade</td>\n",
       "      <td>Landscaping Services</td>\n",
       "      <td>2012.0</td>\n",
       "      <td>120000.0</td>\n",
       "      <td>50000.0</td>\n",
       "      <td>Limited Liability Company</td>\n",
       "      <td>4.0</td>\n",
       "      <td>General_Liability</td>\n",
       "      <td>1908.0</td>\n",
       "      <td>31</td>\n",
       "      <td>1</td>\n",
       "      <td>1908.0</td>\n",
       "    </tr>\n",
       "    <tr>\n",
       "      <th>2</th>\n",
       "      <td>85ec3b0c-8f89c-232b-6be4c-d033c5a52e</td>\n",
       "      <td>TX</td>\n",
       "      <td>Contractors</td>\n",
       "      <td>Electrical Contractors and Other Wiring Instal...</td>\n",
       "      <td>2012.0</td>\n",
       "      <td>60000.0</td>\n",
       "      <td>40000.0</td>\n",
       "      <td>Limited Liability Company</td>\n",
       "      <td>1.0</td>\n",
       "      <td>Business_Owners_Policy_BOP</td>\n",
       "      <td>970.0</td>\n",
       "      <td>30</td>\n",
       "      <td>1</td>\n",
       "      <td>970.0</td>\n",
       "    </tr>\n",
       "    <tr>\n",
       "      <th>3</th>\n",
       "      <td>0fb1f276-95a95-9332-6927f-7e2dc3e610</td>\n",
       "      <td>NY</td>\n",
       "      <td>NaN</td>\n",
       "      <td>NaN</td>\n",
       "      <td>2016.0</td>\n",
       "      <td>150000.0</td>\n",
       "      <td>0.0</td>\n",
       "      <td>Corporation</td>\n",
       "      <td>0.0</td>\n",
       "      <td>General_Liability</td>\n",
       "      <td>816.0</td>\n",
       "      <td>31</td>\n",
       "      <td>1</td>\n",
       "      <td>816.0</td>\n",
       "    </tr>\n",
       "    <tr>\n",
       "      <th>4</th>\n",
       "      <td>5fe23456-f37a8-3c12-7a731-477f60edb9</td>\n",
       "      <td>CA</td>\n",
       "      <td>Professional, Scientific and Technical Services</td>\n",
       "      <td>Architectural Services</td>\n",
       "      <td>2015.0</td>\n",
       "      <td>75000.0</td>\n",
       "      <td>55000.0</td>\n",
       "      <td>Limited Liability Company</td>\n",
       "      <td>0.0</td>\n",
       "      <td>CW_Inland_Marine</td>\n",
       "      <td>500.0</td>\n",
       "      <td>39</td>\n",
       "      <td>1</td>\n",
       "      <td>2040.0</td>\n",
       "    </tr>\n",
       "    <tr>\n",
       "      <th>...</th>\n",
       "      <td>...</td>\n",
       "      <td>...</td>\n",
       "      <td>...</td>\n",
       "      <td>...</td>\n",
       "      <td>...</td>\n",
       "      <td>...</td>\n",
       "      <td>...</td>\n",
       "      <td>...</td>\n",
       "      <td>...</td>\n",
       "      <td>...</td>\n",
       "      <td>...</td>\n",
       "      <td>...</td>\n",
       "      <td>...</td>\n",
       "      <td>...</td>\n",
       "    </tr>\n",
       "    <tr>\n",
       "      <th>11719</th>\n",
       "      <td>a068e7be-f6439-8d8b-2c28e-c137ab0bb8</td>\n",
       "      <td>OK</td>\n",
       "      <td>Retail Trade</td>\n",
       "      <td>Cosmetics, Beauty Supplies, and Perfume Stores</td>\n",
       "      <td>2018.0</td>\n",
       "      <td>24000.0</td>\n",
       "      <td>0.0</td>\n",
       "      <td>Partnership</td>\n",
       "      <td>0.0</td>\n",
       "      <td>Business_Owners_Policy_BOP</td>\n",
       "      <td>475.0</td>\n",
       "      <td>30</td>\n",
       "      <td>0</td>\n",
       "      <td>350.0</td>\n",
       "    </tr>\n",
       "    <tr>\n",
       "      <th>11720</th>\n",
       "      <td>a068e7be-f6439-8d8b-2c28e-c137ab0bb8</td>\n",
       "      <td>OK</td>\n",
       "      <td>Retail Trade</td>\n",
       "      <td>Cosmetics, Beauty Supplies, and Perfume Stores</td>\n",
       "      <td>2018.0</td>\n",
       "      <td>24000.0</td>\n",
       "      <td>0.0</td>\n",
       "      <td>Partnership</td>\n",
       "      <td>0.0</td>\n",
       "      <td>Business_Owners_Policy_BOP</td>\n",
       "      <td>600.0</td>\n",
       "      <td>39</td>\n",
       "      <td>0</td>\n",
       "      <td>350.0</td>\n",
       "    </tr>\n",
       "    <tr>\n",
       "      <th>11721</th>\n",
       "      <td>a068e7be-f6439-8d8b-2c28e-c137ab0bb8</td>\n",
       "      <td>OK</td>\n",
       "      <td>Retail Trade</td>\n",
       "      <td>Cosmetics, Beauty Supplies, and Perfume Stores</td>\n",
       "      <td>2018.0</td>\n",
       "      <td>24000.0</td>\n",
       "      <td>0.0</td>\n",
       "      <td>Partnership</td>\n",
       "      <td>0.0</td>\n",
       "      <td>Business_Owners_Policy_BOP</td>\n",
       "      <td>500.0</td>\n",
       "      <td>60</td>\n",
       "      <td>0</td>\n",
       "      <td>350.0</td>\n",
       "    </tr>\n",
       "    <tr>\n",
       "      <th>11722</th>\n",
       "      <td>a068e7be-f6439-8d8b-2c28e-c137ab0bb8</td>\n",
       "      <td>OK</td>\n",
       "      <td>Retail Trade</td>\n",
       "      <td>Cosmetics, Beauty Supplies, and Perfume Stores</td>\n",
       "      <td>2018.0</td>\n",
       "      <td>24000.0</td>\n",
       "      <td>0.0</td>\n",
       "      <td>Partnership</td>\n",
       "      <td>0.0</td>\n",
       "      <td>Business_Owners_Policy_BOP</td>\n",
       "      <td>500.0</td>\n",
       "      <td>60</td>\n",
       "      <td>0</td>\n",
       "      <td>350.0</td>\n",
       "    </tr>\n",
       "    <tr>\n",
       "      <th>11723</th>\n",
       "      <td>a068e7be-f6439-8d8b-2c28e-c137ab0bb8</td>\n",
       "      <td>OK</td>\n",
       "      <td>Retail Trade</td>\n",
       "      <td>Cosmetics, Beauty Supplies, and Perfume Stores</td>\n",
       "      <td>2018.0</td>\n",
       "      <td>24000.0</td>\n",
       "      <td>0.0</td>\n",
       "      <td>Partnership</td>\n",
       "      <td>0.0</td>\n",
       "      <td>Business_Owners_Policy_BOP</td>\n",
       "      <td>500.0</td>\n",
       "      <td>60</td>\n",
       "      <td>0</td>\n",
       "      <td>350.0</td>\n",
       "    </tr>\n",
       "  </tbody>\n",
       "</table>\n",
       "<p>11724 rows × 14 columns</p>\n",
       "</div>"
      ],
      "text/plain": [
       "                               account_uuid state  \\\n",
       "0      4de966ca-b13f-4133-acd2-d516328062fc    PA   \n",
       "1      4de966ca-b13f-4133-acd2-d516328062fc    PA   \n",
       "2      85ec3b0c-8f89c-232b-6be4c-d033c5a52e    TX   \n",
       "3      0fb1f276-95a95-9332-6927f-7e2dc3e610    NY   \n",
       "4      5fe23456-f37a8-3c12-7a731-477f60edb9    CA   \n",
       "...                                     ...   ...   \n",
       "11719  a068e7be-f6439-8d8b-2c28e-c137ab0bb8    OK   \n",
       "11720  a068e7be-f6439-8d8b-2c28e-c137ab0bb8    OK   \n",
       "11721  a068e7be-f6439-8d8b-2c28e-c137ab0bb8    OK   \n",
       "11722  a068e7be-f6439-8d8b-2c28e-c137ab0bb8    OK   \n",
       "11723  a068e7be-f6439-8d8b-2c28e-c137ab0bb8    OK   \n",
       "\n",
       "                                              industry  \\\n",
       "0                                         Retail Trade   \n",
       "1                                         Retail Trade   \n",
       "2                                          Contractors   \n",
       "3                                                  NaN   \n",
       "4      Professional, Scientific and Technical Services   \n",
       "...                                                ...   \n",
       "11719                                     Retail Trade   \n",
       "11720                                     Retail Trade   \n",
       "11721                                     Retail Trade   \n",
       "11722                                     Retail Trade   \n",
       "11723                                     Retail Trade   \n",
       "\n",
       "                                             subindustry  year_established  \\\n",
       "0                                   Landscaping Services            2012.0   \n",
       "1                                   Landscaping Services            2012.0   \n",
       "2      Electrical Contractors and Other Wiring Instal...            2012.0   \n",
       "3                                                    NaN            2016.0   \n",
       "4                                 Architectural Services            2015.0   \n",
       "...                                                  ...               ...   \n",
       "11719     Cosmetics, Beauty Supplies, and Perfume Stores            2018.0   \n",
       "11720     Cosmetics, Beauty Supplies, and Perfume Stores            2018.0   \n",
       "11721     Cosmetics, Beauty Supplies, and Perfume Stores            2018.0   \n",
       "11722     Cosmetics, Beauty Supplies, and Perfume Stores            2018.0   \n",
       "11723     Cosmetics, Beauty Supplies, and Perfume Stores            2018.0   \n",
       "\n",
       "       annual_revenue  total_payroll         business_structure  \\\n",
       "0            120000.0        50000.0  Limited Liability Company   \n",
       "1            120000.0        50000.0  Limited Liability Company   \n",
       "2             60000.0        40000.0  Limited Liability Company   \n",
       "3            150000.0            0.0                Corporation   \n",
       "4             75000.0        55000.0  Limited Liability Company   \n",
       "...               ...            ...                        ...   \n",
       "11719         24000.0            0.0                Partnership   \n",
       "11720         24000.0            0.0                Partnership   \n",
       "11721         24000.0            0.0                Partnership   \n",
       "11722         24000.0            0.0                Partnership   \n",
       "11723         24000.0            0.0                Partnership   \n",
       "\n",
       "       num_employees                     product  premium  carrier_id  \\\n",
       "0                4.0           General_Liability   1177.0          39   \n",
       "1                4.0           General_Liability   1908.0          31   \n",
       "2                1.0  Business_Owners_Policy_BOP    970.0          30   \n",
       "3                0.0           General_Liability    816.0          31   \n",
       "4                0.0            CW_Inland_Marine    500.0          39   \n",
       "...              ...                         ...      ...         ...   \n",
       "11719            0.0  Business_Owners_Policy_BOP    475.0          30   \n",
       "11720            0.0  Business_Owners_Policy_BOP    600.0          39   \n",
       "11721            0.0  Business_Owners_Policy_BOP    500.0          60   \n",
       "11722            0.0  Business_Owners_Policy_BOP    500.0          60   \n",
       "11723            0.0  Business_Owners_Policy_BOP    500.0          60   \n",
       "\n",
       "       convert  account_value  \n",
       "0            0         1908.0  \n",
       "1            1         1908.0  \n",
       "2            1          970.0  \n",
       "3            1          816.0  \n",
       "4            1         2040.0  \n",
       "...        ...            ...  \n",
       "11719        0          350.0  \n",
       "11720        0          350.0  \n",
       "11721        0          350.0  \n",
       "11722        0          350.0  \n",
       "11723        0          350.0  \n",
       "\n",
       "[11724 rows x 14 columns]"
      ]
     },
     "execution_count": 14,
     "metadata": {},
     "output_type": "execute_result"
    }
   ],
   "source": [
    "train = train.drop(columns='account_value_by_product').merge(train_account_values, how='left', on='account_uuid')\n",
    "train"
   ]
  },
  {
   "cell_type": "markdown",
   "id": "97ab8288",
   "metadata": {},
   "source": [
    "# **`--- EDA ---`**"
   ]
  },
  {
   "cell_type": "code",
   "execution_count": 15,
   "id": "31de1b27",
   "metadata": {
    "ExecuteTime": {
     "end_time": "2022-10-24T16:03:09.534538Z",
     "start_time": "2022-10-24T16:03:09.519526Z"
    }
   },
   "outputs": [
    {
     "data": {
      "text/html": [
       "<div>\n",
       "<style scoped>\n",
       "    .dataframe tbody tr th:only-of-type {\n",
       "        vertical-align: middle;\n",
       "    }\n",
       "\n",
       "    .dataframe tbody tr th {\n",
       "        vertical-align: top;\n",
       "    }\n",
       "\n",
       "    .dataframe thead th {\n",
       "        text-align: right;\n",
       "    }\n",
       "</style>\n",
       "<table border=\"1\" class=\"dataframe\">\n",
       "  <thead>\n",
       "    <tr style=\"text-align: right;\">\n",
       "      <th></th>\n",
       "      <th>account_uuid</th>\n",
       "      <th>state</th>\n",
       "      <th>industry</th>\n",
       "      <th>subindustry</th>\n",
       "      <th>year_established</th>\n",
       "      <th>annual_revenue</th>\n",
       "      <th>total_payroll</th>\n",
       "      <th>business_structure</th>\n",
       "      <th>num_employees</th>\n",
       "      <th>product</th>\n",
       "      <th>premium</th>\n",
       "      <th>carrier_id</th>\n",
       "      <th>convert</th>\n",
       "      <th>account_value</th>\n",
       "    </tr>\n",
       "  </thead>\n",
       "  <tbody>\n",
       "    <tr>\n",
       "      <th>0</th>\n",
       "      <td>4de966ca-b13f-4133-acd2-d516328062fc</td>\n",
       "      <td>PA</td>\n",
       "      <td>Retail Trade</td>\n",
       "      <td>Landscaping Services</td>\n",
       "      <td>2012.0</td>\n",
       "      <td>120000.0</td>\n",
       "      <td>50000.0</td>\n",
       "      <td>Limited Liability Company</td>\n",
       "      <td>4.0</td>\n",
       "      <td>General_Liability</td>\n",
       "      <td>1177.0</td>\n",
       "      <td>39</td>\n",
       "      <td>0</td>\n",
       "      <td>1908.0</td>\n",
       "    </tr>\n",
       "    <tr>\n",
       "      <th>1</th>\n",
       "      <td>4de966ca-b13f-4133-acd2-d516328062fc</td>\n",
       "      <td>PA</td>\n",
       "      <td>Retail Trade</td>\n",
       "      <td>Landscaping Services</td>\n",
       "      <td>2012.0</td>\n",
       "      <td>120000.0</td>\n",
       "      <td>50000.0</td>\n",
       "      <td>Limited Liability Company</td>\n",
       "      <td>4.0</td>\n",
       "      <td>General_Liability</td>\n",
       "      <td>1908.0</td>\n",
       "      <td>31</td>\n",
       "      <td>1</td>\n",
       "      <td>1908.0</td>\n",
       "    </tr>\n",
       "    <tr>\n",
       "      <th>2</th>\n",
       "      <td>85ec3b0c-8f89c-232b-6be4c-d033c5a52e</td>\n",
       "      <td>TX</td>\n",
       "      <td>Contractors</td>\n",
       "      <td>Electrical Contractors and Other Wiring Instal...</td>\n",
       "      <td>2012.0</td>\n",
       "      <td>60000.0</td>\n",
       "      <td>40000.0</td>\n",
       "      <td>Limited Liability Company</td>\n",
       "      <td>1.0</td>\n",
       "      <td>Business_Owners_Policy_BOP</td>\n",
       "      <td>970.0</td>\n",
       "      <td>30</td>\n",
       "      <td>1</td>\n",
       "      <td>970.0</td>\n",
       "    </tr>\n",
       "    <tr>\n",
       "      <th>3</th>\n",
       "      <td>0fb1f276-95a95-9332-6927f-7e2dc3e610</td>\n",
       "      <td>NY</td>\n",
       "      <td>NaN</td>\n",
       "      <td>NaN</td>\n",
       "      <td>2016.0</td>\n",
       "      <td>150000.0</td>\n",
       "      <td>0.0</td>\n",
       "      <td>Corporation</td>\n",
       "      <td>0.0</td>\n",
       "      <td>General_Liability</td>\n",
       "      <td>816.0</td>\n",
       "      <td>31</td>\n",
       "      <td>1</td>\n",
       "      <td>816.0</td>\n",
       "    </tr>\n",
       "    <tr>\n",
       "      <th>4</th>\n",
       "      <td>5fe23456-f37a8-3c12-7a731-477f60edb9</td>\n",
       "      <td>CA</td>\n",
       "      <td>Professional, Scientific and Technical Services</td>\n",
       "      <td>Architectural Services</td>\n",
       "      <td>2015.0</td>\n",
       "      <td>75000.0</td>\n",
       "      <td>55000.0</td>\n",
       "      <td>Limited Liability Company</td>\n",
       "      <td>0.0</td>\n",
       "      <td>CW_Inland_Marine</td>\n",
       "      <td>500.0</td>\n",
       "      <td>39</td>\n",
       "      <td>1</td>\n",
       "      <td>2040.0</td>\n",
       "    </tr>\n",
       "    <tr>\n",
       "      <th>...</th>\n",
       "      <td>...</td>\n",
       "      <td>...</td>\n",
       "      <td>...</td>\n",
       "      <td>...</td>\n",
       "      <td>...</td>\n",
       "      <td>...</td>\n",
       "      <td>...</td>\n",
       "      <td>...</td>\n",
       "      <td>...</td>\n",
       "      <td>...</td>\n",
       "      <td>...</td>\n",
       "      <td>...</td>\n",
       "      <td>...</td>\n",
       "      <td>...</td>\n",
       "    </tr>\n",
       "    <tr>\n",
       "      <th>11719</th>\n",
       "      <td>a068e7be-f6439-8d8b-2c28e-c137ab0bb8</td>\n",
       "      <td>OK</td>\n",
       "      <td>Retail Trade</td>\n",
       "      <td>Cosmetics, Beauty Supplies, and Perfume Stores</td>\n",
       "      <td>2018.0</td>\n",
       "      <td>24000.0</td>\n",
       "      <td>0.0</td>\n",
       "      <td>Partnership</td>\n",
       "      <td>0.0</td>\n",
       "      <td>Business_Owners_Policy_BOP</td>\n",
       "      <td>475.0</td>\n",
       "      <td>30</td>\n",
       "      <td>0</td>\n",
       "      <td>350.0</td>\n",
       "    </tr>\n",
       "    <tr>\n",
       "      <th>11720</th>\n",
       "      <td>a068e7be-f6439-8d8b-2c28e-c137ab0bb8</td>\n",
       "      <td>OK</td>\n",
       "      <td>Retail Trade</td>\n",
       "      <td>Cosmetics, Beauty Supplies, and Perfume Stores</td>\n",
       "      <td>2018.0</td>\n",
       "      <td>24000.0</td>\n",
       "      <td>0.0</td>\n",
       "      <td>Partnership</td>\n",
       "      <td>0.0</td>\n",
       "      <td>Business_Owners_Policy_BOP</td>\n",
       "      <td>600.0</td>\n",
       "      <td>39</td>\n",
       "      <td>0</td>\n",
       "      <td>350.0</td>\n",
       "    </tr>\n",
       "    <tr>\n",
       "      <th>11721</th>\n",
       "      <td>a068e7be-f6439-8d8b-2c28e-c137ab0bb8</td>\n",
       "      <td>OK</td>\n",
       "      <td>Retail Trade</td>\n",
       "      <td>Cosmetics, Beauty Supplies, and Perfume Stores</td>\n",
       "      <td>2018.0</td>\n",
       "      <td>24000.0</td>\n",
       "      <td>0.0</td>\n",
       "      <td>Partnership</td>\n",
       "      <td>0.0</td>\n",
       "      <td>Business_Owners_Policy_BOP</td>\n",
       "      <td>500.0</td>\n",
       "      <td>60</td>\n",
       "      <td>0</td>\n",
       "      <td>350.0</td>\n",
       "    </tr>\n",
       "    <tr>\n",
       "      <th>11722</th>\n",
       "      <td>a068e7be-f6439-8d8b-2c28e-c137ab0bb8</td>\n",
       "      <td>OK</td>\n",
       "      <td>Retail Trade</td>\n",
       "      <td>Cosmetics, Beauty Supplies, and Perfume Stores</td>\n",
       "      <td>2018.0</td>\n",
       "      <td>24000.0</td>\n",
       "      <td>0.0</td>\n",
       "      <td>Partnership</td>\n",
       "      <td>0.0</td>\n",
       "      <td>Business_Owners_Policy_BOP</td>\n",
       "      <td>500.0</td>\n",
       "      <td>60</td>\n",
       "      <td>0</td>\n",
       "      <td>350.0</td>\n",
       "    </tr>\n",
       "    <tr>\n",
       "      <th>11723</th>\n",
       "      <td>a068e7be-f6439-8d8b-2c28e-c137ab0bb8</td>\n",
       "      <td>OK</td>\n",
       "      <td>Retail Trade</td>\n",
       "      <td>Cosmetics, Beauty Supplies, and Perfume Stores</td>\n",
       "      <td>2018.0</td>\n",
       "      <td>24000.0</td>\n",
       "      <td>0.0</td>\n",
       "      <td>Partnership</td>\n",
       "      <td>0.0</td>\n",
       "      <td>Business_Owners_Policy_BOP</td>\n",
       "      <td>500.0</td>\n",
       "      <td>60</td>\n",
       "      <td>0</td>\n",
       "      <td>350.0</td>\n",
       "    </tr>\n",
       "  </tbody>\n",
       "</table>\n",
       "<p>11724 rows × 14 columns</p>\n",
       "</div>"
      ],
      "text/plain": [
       "                               account_uuid state  \\\n",
       "0      4de966ca-b13f-4133-acd2-d516328062fc    PA   \n",
       "1      4de966ca-b13f-4133-acd2-d516328062fc    PA   \n",
       "2      85ec3b0c-8f89c-232b-6be4c-d033c5a52e    TX   \n",
       "3      0fb1f276-95a95-9332-6927f-7e2dc3e610    NY   \n",
       "4      5fe23456-f37a8-3c12-7a731-477f60edb9    CA   \n",
       "...                                     ...   ...   \n",
       "11719  a068e7be-f6439-8d8b-2c28e-c137ab0bb8    OK   \n",
       "11720  a068e7be-f6439-8d8b-2c28e-c137ab0bb8    OK   \n",
       "11721  a068e7be-f6439-8d8b-2c28e-c137ab0bb8    OK   \n",
       "11722  a068e7be-f6439-8d8b-2c28e-c137ab0bb8    OK   \n",
       "11723  a068e7be-f6439-8d8b-2c28e-c137ab0bb8    OK   \n",
       "\n",
       "                                              industry  \\\n",
       "0                                         Retail Trade   \n",
       "1                                         Retail Trade   \n",
       "2                                          Contractors   \n",
       "3                                                  NaN   \n",
       "4      Professional, Scientific and Technical Services   \n",
       "...                                                ...   \n",
       "11719                                     Retail Trade   \n",
       "11720                                     Retail Trade   \n",
       "11721                                     Retail Trade   \n",
       "11722                                     Retail Trade   \n",
       "11723                                     Retail Trade   \n",
       "\n",
       "                                             subindustry  year_established  \\\n",
       "0                                   Landscaping Services            2012.0   \n",
       "1                                   Landscaping Services            2012.0   \n",
       "2      Electrical Contractors and Other Wiring Instal...            2012.0   \n",
       "3                                                    NaN            2016.0   \n",
       "4                                 Architectural Services            2015.0   \n",
       "...                                                  ...               ...   \n",
       "11719     Cosmetics, Beauty Supplies, and Perfume Stores            2018.0   \n",
       "11720     Cosmetics, Beauty Supplies, and Perfume Stores            2018.0   \n",
       "11721     Cosmetics, Beauty Supplies, and Perfume Stores            2018.0   \n",
       "11722     Cosmetics, Beauty Supplies, and Perfume Stores            2018.0   \n",
       "11723     Cosmetics, Beauty Supplies, and Perfume Stores            2018.0   \n",
       "\n",
       "       annual_revenue  total_payroll         business_structure  \\\n",
       "0            120000.0        50000.0  Limited Liability Company   \n",
       "1            120000.0        50000.0  Limited Liability Company   \n",
       "2             60000.0        40000.0  Limited Liability Company   \n",
       "3            150000.0            0.0                Corporation   \n",
       "4             75000.0        55000.0  Limited Liability Company   \n",
       "...               ...            ...                        ...   \n",
       "11719         24000.0            0.0                Partnership   \n",
       "11720         24000.0            0.0                Partnership   \n",
       "11721         24000.0            0.0                Partnership   \n",
       "11722         24000.0            0.0                Partnership   \n",
       "11723         24000.0            0.0                Partnership   \n",
       "\n",
       "       num_employees                     product  premium  carrier_id  \\\n",
       "0                4.0           General_Liability   1177.0          39   \n",
       "1                4.0           General_Liability   1908.0          31   \n",
       "2                1.0  Business_Owners_Policy_BOP    970.0          30   \n",
       "3                0.0           General_Liability    816.0          31   \n",
       "4                0.0            CW_Inland_Marine    500.0          39   \n",
       "...              ...                         ...      ...         ...   \n",
       "11719            0.0  Business_Owners_Policy_BOP    475.0          30   \n",
       "11720            0.0  Business_Owners_Policy_BOP    600.0          39   \n",
       "11721            0.0  Business_Owners_Policy_BOP    500.0          60   \n",
       "11722            0.0  Business_Owners_Policy_BOP    500.0          60   \n",
       "11723            0.0  Business_Owners_Policy_BOP    500.0          60   \n",
       "\n",
       "       convert  account_value  \n",
       "0            0         1908.0  \n",
       "1            1         1908.0  \n",
       "2            1          970.0  \n",
       "3            1          816.0  \n",
       "4            1         2040.0  \n",
       "...        ...            ...  \n",
       "11719        0          350.0  \n",
       "11720        0          350.0  \n",
       "11721        0          350.0  \n",
       "11722        0          350.0  \n",
       "11723        0          350.0  \n",
       "\n",
       "[11724 rows x 14 columns]"
      ]
     },
     "execution_count": 15,
     "metadata": {},
     "output_type": "execute_result"
    }
   ],
   "source": [
    "train"
   ]
  },
  {
   "cell_type": "code",
   "execution_count": 16,
   "id": "c20234fc",
   "metadata": {
    "ExecuteTime": {
     "end_time": "2022-10-24T16:03:09.662654Z",
     "start_time": "2022-10-24T16:03:09.535540Z"
    }
   },
   "outputs": [
    {
     "data": {
      "image/png": "[encoded data removed]",
      "text/plain": [
       "<Figure size 1800x600 with 1 Axes>"
      ]
     },
     "metadata": {},
     "output_type": "display_data"
    }
   ],
   "source": [
    "x = 'annual_revenue'\n",
    "\n",
    "plt.figure(figsize=(18, 6))\n",
    "sns.violinplot(data=train[train[x] < 1e5], y='convert', x=x, orient='h')\n",
    "plt.show()"
   ]
  },
  {
   "cell_type": "code",
   "execution_count": 17,
   "id": "747c3287",
   "metadata": {
    "ExecuteTime": {
     "end_time": "2022-10-24T16:03:09.773755Z",
     "start_time": "2022-10-24T16:03:09.663657Z"
    }
   },
   "outputs": [
    {
     "data": {
      "image/png": "[encoded data removed]",
      "text/plain": [
       "<Figure size 1800x600 with 1 Axes>"
      ]
     },
     "metadata": {},
     "output_type": "display_data"
    }
   ],
   "source": [
    "x = 'total_payroll'\n",
    "\n",
    "plt.figure(figsize=(18, 6))\n",
    "sns.violinplot(data=train[train[x] < 1e5], y='convert', x=x, orient='h')\n",
    "plt.show()"
   ]
  },
  {
   "cell_type": "code",
   "execution_count": 18,
   "id": "54f17d7d",
   "metadata": {
    "ExecuteTime": {
     "end_time": "2022-10-24T16:03:09.869843Z",
     "start_time": "2022-10-24T16:03:09.774757Z"
    }
   },
   "outputs": [
    {
     "data": {
      "image/png": "[encoded data removed]",
      "text/plain": [
       "<Figure size 1800x600 with 1 Axes>"
      ]
     },
     "metadata": {},
     "output_type": "display_data"
    }
   ],
   "source": [
    "x = 'premium'\n",
    "\n",
    "plt.figure(figsize=(18, 6))\n",
    "sns.violinplot(data=train[train[x] < 4000], y='convert', x=x, orient='h')\n",
    "plt.show()"
   ]
  },
  {
   "cell_type": "markdown",
   "id": "992874c1",
   "metadata": {},
   "source": [
    "# **`--- FIRST MODEL ---`**"
   ]
  },
  {
   "cell_type": "code",
   "execution_count": 19,
   "id": "9167a32d",
   "metadata": {
    "ExecuteTime": {
     "end_time": "2022-10-24T16:03:09.885857Z",
     "start_time": "2022-10-24T16:03:09.870844Z"
    }
   },
   "outputs": [],
   "source": [
    "df = train.copy()\n",
    "df.sort_values(by='account_uuid', inplace=True)"
   ]
  },
  {
   "cell_type": "code",
   "execution_count": 20,
   "id": "fdd2699c",
   "metadata": {
    "ExecuteTime": {
     "end_time": "2022-10-24T16:03:09.901872Z",
     "start_time": "2022-10-24T16:03:09.886859Z"
    }
   },
   "outputs": [
    {
     "data": {
      "text/plain": [
       "1    6797\n",
       "0    4927\n",
       "Name: convert, dtype: int64"
      ]
     },
     "execution_count": 20,
     "metadata": {},
     "output_type": "execute_result"
    }
   ],
   "source": [
    "df['convert'].value_counts(dropna=False)"
   ]
  },
  {
   "cell_type": "markdown",
   "id": "7ee7d7b8",
   "metadata": {},
   "source": [
    "## **Feature selection**"
   ]
  },
  {
   "cell_type": "code",
   "execution_count": 21,
   "id": "19298620",
   "metadata": {
    "ExecuteTime": {
     "end_time": "2022-10-24T16:03:09.917886Z",
     "start_time": "2022-10-24T16:03:09.904876Z"
    }
   },
   "outputs": [
    {
     "data": {
      "text/plain": [
       "['state',\n",
       " 'industry',\n",
       " 'subindustry',\n",
       " 'year_established',\n",
       " 'annual_revenue',\n",
       " 'total_payroll',\n",
       " 'business_structure',\n",
       " 'num_employees',\n",
       " 'product',\n",
       " 'premium',\n",
       " 'carrier_id']"
      ]
     },
     "execution_count": 21,
     "metadata": {},
     "output_type": "execute_result"
    }
   ],
   "source": [
    "target = 'convert'\n",
    "# cols_to_drop = [target] + ['account_value']\n",
    "cols_to_drop = [target] + ['account_uuid', 'account_value']\n",
    "\n",
    "features = df.drop(columns=cols_to_drop).columns.tolist()\n",
    "features"
   ]
  },
  {
   "cell_type": "code",
   "execution_count": 22,
   "id": "0611ee49",
   "metadata": {
    "ExecuteTime": {
     "end_time": "2022-10-24T16:03:09.933902Z",
     "start_time": "2022-10-24T16:03:09.918888Z"
    }
   },
   "outputs": [
    {
     "name": "stdout",
     "output_type": "stream",
     "text": [
      "account_uuid          0.000000\n",
      "state                 0.332651\n",
      "industry              2.055612\n",
      "subindustry           2.055612\n",
      "year_established      0.605595\n",
      "annual_revenue        0.426476\n",
      "total_payroll         0.784715\n",
      "business_structure    0.017059\n",
      "num_employees         0.725009\n",
      "product               0.000000\n",
      "premium               0.000000\n",
      "carrier_id            0.000000\n",
      "convert               0.000000\n",
      "account_value         0.000000\n",
      "dtype: float64\n"
     ]
    }
   ],
   "source": [
    "# -- PORCENTAJE DE NaN VALUES. DE MOMENTO LOS ELIMINAMOS --\n",
    "\n",
    "print(100*df.isna().sum()/df.shape[0])\n",
    "df.dropna(inplace=True)"
   ]
  },
  {
   "cell_type": "code",
   "execution_count": 23,
   "id": "b6d8646e",
   "metadata": {
    "ExecuteTime": {
     "end_time": "2022-10-24T16:03:09.949915Z",
     "start_time": "2022-10-24T16:03:09.934902Z"
    }
   },
   "outputs": [
    {
     "name": "stdout",
     "output_type": "stream",
     "text": [
      "(11402, 11)\n"
     ]
    }
   ],
   "source": [
    "X = df[features]\n",
    "Y = df[target]\n",
    "\n",
    "print(X.shape)"
   ]
  },
  {
   "cell_type": "code",
   "execution_count": 24,
   "id": "4804cff9",
   "metadata": {
    "ExecuteTime": {
     "end_time": "2022-10-24T16:03:09.965931Z",
     "start_time": "2022-10-24T16:03:09.950917Z"
    }
   },
   "outputs": [
    {
     "data": {
      "text/html": [
       "<div>\n",
       "<style scoped>\n",
       "    .dataframe tbody tr th:only-of-type {\n",
       "        vertical-align: middle;\n",
       "    }\n",
       "\n",
       "    .dataframe tbody tr th {\n",
       "        vertical-align: top;\n",
       "    }\n",
       "\n",
       "    .dataframe thead th {\n",
       "        text-align: right;\n",
       "    }\n",
       "</style>\n",
       "<table border=\"1\" class=\"dataframe\">\n",
       "  <thead>\n",
       "    <tr style=\"text-align: right;\">\n",
       "      <th></th>\n",
       "      <th>state</th>\n",
       "      <th>industry</th>\n",
       "      <th>subindustry</th>\n",
       "      <th>business_structure</th>\n",
       "      <th>product</th>\n",
       "    </tr>\n",
       "  </thead>\n",
       "  <tbody>\n",
       "    <tr>\n",
       "      <th>11500</th>\n",
       "      <td>GA</td>\n",
       "      <td>Manufacturing</td>\n",
       "      <td>Malt Manufacturing</td>\n",
       "      <td>Limited Liability Company</td>\n",
       "      <td>General_Liability</td>\n",
       "    </tr>\n",
       "    <tr>\n",
       "      <th>11501</th>\n",
       "      <td>GA</td>\n",
       "      <td>Manufacturing</td>\n",
       "      <td>Malt Manufacturing</td>\n",
       "      <td>Limited Liability Company</td>\n",
       "      <td>Workers_Compensation</td>\n",
       "    </tr>\n",
       "    <tr>\n",
       "      <th>11502</th>\n",
       "      <td>GA</td>\n",
       "      <td>Manufacturing</td>\n",
       "      <td>Malt Manufacturing</td>\n",
       "      <td>Limited Liability Company</td>\n",
       "      <td>Business_Owners_Policy_BOP</td>\n",
       "    </tr>\n",
       "    <tr>\n",
       "      <th>11503</th>\n",
       "      <td>GA</td>\n",
       "      <td>Manufacturing</td>\n",
       "      <td>Malt Manufacturing</td>\n",
       "      <td>Limited Liability Company</td>\n",
       "      <td>Workers_Compensation</td>\n",
       "    </tr>\n",
       "    <tr>\n",
       "      <th>9087</th>\n",
       "      <td>VA</td>\n",
       "      <td>Professional, Scientific and Technical Services</td>\n",
       "      <td>All Other Professional, Scientific, and Techni...</td>\n",
       "      <td>Limited Liability Company</td>\n",
       "      <td>Business_Owners_Policy_BOP</td>\n",
       "    </tr>\n",
       "  </tbody>\n",
       "</table>\n",
       "</div>"
      ],
      "text/plain": [
       "      state                                         industry  \\\n",
       "11500    GA                                    Manufacturing   \n",
       "11501    GA                                    Manufacturing   \n",
       "11502    GA                                    Manufacturing   \n",
       "11503    GA                                    Manufacturing   \n",
       "9087     VA  Professional, Scientific and Technical Services   \n",
       "\n",
       "                                             subindustry  \\\n",
       "11500                                 Malt Manufacturing   \n",
       "11501                                 Malt Manufacturing   \n",
       "11502                                 Malt Manufacturing   \n",
       "11503                                 Malt Manufacturing   \n",
       "9087   All Other Professional, Scientific, and Techni...   \n",
       "\n",
       "              business_structure                     product  \n",
       "11500  Limited Liability Company           General_Liability  \n",
       "11501  Limited Liability Company        Workers_Compensation  \n",
       "11502  Limited Liability Company  Business_Owners_Policy_BOP  \n",
       "11503  Limited Liability Company        Workers_Compensation  \n",
       "9087   Limited Liability Company  Business_Owners_Policy_BOP  "
      ]
     },
     "execution_count": 24,
     "metadata": {},
     "output_type": "execute_result"
    }
   ],
   "source": [
    "# -- CATEGORICAL FEATURES -- \n",
    "\n",
    "X.select_dtypes(include='object').head()"
   ]
  },
  {
   "cell_type": "code",
   "execution_count": 25,
   "id": "d51f1b67",
   "metadata": {
    "ExecuteTime": {
     "end_time": "2022-10-24T16:03:09.981946Z",
     "start_time": "2022-10-24T16:03:09.966931Z"
    }
   },
   "outputs": [
    {
     "data": {
      "text/plain": [
       "[50, 21, 482, 9, 33]"
      ]
     },
     "execution_count": 25,
     "metadata": {},
     "output_type": "execute_result"
    }
   ],
   "source": [
    "# -- TENEMOS MUCHA GRANULARIDAD EN LAS VARIABLES CATEGÓRICAS --\n",
    "\n",
    "[X[col].nunique() for col in X.select_dtypes(include='object').columns]"
   ]
  },
  {
   "cell_type": "markdown",
   "id": "a4b622cf",
   "metadata": {},
   "source": [
    "## **Train/Test Split**"
   ]
  },
  {
   "cell_type": "code",
   "execution_count": 26,
   "id": "902b45ac",
   "metadata": {
    "ExecuteTime": {
     "end_time": "2022-10-24T16:03:09.997960Z",
     "start_time": "2022-10-24T16:03:09.982946Z"
    }
   },
   "outputs": [],
   "source": [
    "X_train, X_test, y_train, y_test = train_test_split(X, Y, test_size=0.25, shuffle=False)  # shuffle=False para mantener el orden, de manera que un account_uuid esté a la vez en train y en test"
   ]
  },
  {
   "cell_type": "code",
   "execution_count": 27,
   "id": "4c70f0a0",
   "metadata": {
    "ExecuteTime": {
     "end_time": "2022-10-24T16:03:10.013975Z",
     "start_time": "2022-10-24T16:03:09.998961Z"
    }
   },
   "outputs": [
    {
     "data": {
      "text/plain": [
       "['state', 'industry', 'subindustry', 'business_structure', 'product']"
      ]
     },
     "execution_count": 27,
     "metadata": {},
     "output_type": "execute_result"
    }
   ],
   "source": [
    "cat_features = X.select_dtypes(include='object').columns.tolist()\n",
    "cat_features"
   ]
  },
  {
   "cell_type": "code",
   "execution_count": 28,
   "id": "187b088a",
   "metadata": {
    "ExecuteTime": {
     "end_time": "2022-10-24T16:03:27.486282Z",
     "start_time": "2022-10-24T16:03:10.014975Z"
    }
   },
   "outputs": [
    {
     "name": "stdout",
     "output_type": "stream",
     "text": [
      "CatBoost model is fitted: True\n",
      "CatBoost model parameters:\n",
      "{}\n"
     ]
    }
   ],
   "source": [
    "clf = CatBoostClassifier()\n",
    "\n",
    "clf.fit(X_train,\n",
    "        y_train,\n",
    "        cat_features=cat_features,\n",
    "        eval_set=(X_test, y_test),\n",
    "        verbose=False)\n",
    "\n",
    "print('CatBoost model is fitted: ' + str(clf.is_fitted()))\n",
    "print('CatBoost model parameters:')\n",
    "print(clf.get_params())"
   ]
  },
  {
   "cell_type": "code",
   "execution_count": 29,
   "id": "33ef119d",
   "metadata": {
    "ExecuteTime": {
     "end_time": "2022-10-24T16:03:27.502296Z",
     "start_time": "2022-10-24T16:03:27.487282Z"
    }
   },
   "outputs": [
    {
     "data": {
      "text/plain": [
       "['.git',\n",
       " '.gitignore',\n",
       " '.idea',\n",
       " 'app',\n",
       " 'catboost_info',\n",
       " 'data',\n",
       " 'models',\n",
       " 'notebooks',\n",
       " 'README.md']"
      ]
     },
     "execution_count": 29,
     "metadata": {},
     "output_type": "execute_result"
    }
   ],
   "source": [
    "import os \n",
    "os.listdir()"
   ]
  },
  {
   "cell_type": "code",
   "execution_count": 30,
   "id": "8af4804d",
   "metadata": {
    "ExecuteTime": {
     "end_time": "2022-10-24T16:03:27.518288Z",
     "start_time": "2022-10-24T16:03:27.503296Z"
    }
   },
   "outputs": [
    {
     "data": {
      "text/plain": [
       "['models/catboost_20221024_18h03m.joblib']"
      ]
     },
     "execution_count": 30,
     "metadata": {},
     "output_type": "execute_result"
    }
   ],
   "source": [
    "model_tag = 'catboost'\n",
    "model_date = datetime.now().strftime(\"%Y%m%d_%Hh%Mm\")\n",
    "model_name = model_tag + '_' + model_date\n",
    "\n",
    "joblib.dump(clf, f\"models/{model_name}.joblib\") "
   ]
  },
  {
   "cell_type": "code",
   "execution_count": null,
   "id": "379c3374",
   "metadata": {},
   "outputs": [],
   "source": []
  },
  {
   "cell_type": "code",
   "execution_count": null,
   "id": "3563a2b7",
   "metadata": {},
   "outputs": [],
   "source": []
  },
  {
   "cell_type": "code",
   "execution_count": 31,
   "id": "fd67047c",
   "metadata": {
    "ExecuteTime": {
     "end_time": "2022-10-24T16:03:27.566090Z",
     "start_time": "2022-10-24T16:03:27.519289Z"
    }
   },
   "outputs": [],
   "source": [
    "y_pred = clf.predict(X_test)\n",
    "y_pred_train = clf.predict(X_train)\n",
    "\n",
    "y_pred_proba_test = clf.predict_proba(X_test)\n",
    "y_pred_proba_train = clf.predict_proba(X_train)"
   ]
  },
  {
   "cell_type": "code",
   "execution_count": 32,
   "id": "ab9bc130",
   "metadata": {
    "ExecuteTime": {
     "end_time": "2022-10-24T16:03:27.582145Z",
     "start_time": "2022-10-24T16:03:27.567131Z"
    }
   },
   "outputs": [
    {
     "name": "stdout",
     "output_type": "stream",
     "text": [
      "Accuracy: 0.6832690284110838\n"
     ]
    }
   ],
   "source": [
    "print(\"Accuracy:\", metrics.accuracy_score(y_test, y_pred))"
   ]
  },
  {
   "cell_type": "markdown",
   "id": "55bc846a",
   "metadata": {},
   "source": [
    "## **Metrics**"
   ]
  },
  {
   "cell_type": "markdown",
   "id": "391a38da",
   "metadata": {},
   "source": [
    "### Feature importances"
   ]
  },
  {
   "cell_type": "code",
   "execution_count": 33,
   "id": "6ef060ac",
   "metadata": {
    "ExecuteTime": {
     "end_time": "2022-10-24T16:03:27.918450Z",
     "start_time": "2022-10-24T16:03:27.583146Z"
    },
    "scrolled": false
   },
   "outputs": [
    {
     "ename": "NameError",
     "evalue": "name 'np' is not defined",
     "output_type": "error",
     "traceback": [
      "\u001b[1;31m---------------------------------------------------------------------------\u001b[0m",
      "\u001b[1;31mNameError\u001b[0m                                 Traceback (most recent call last)",
      "Input \u001b[1;32mIn [33]\u001b[0m, in \u001b[0;36m<cell line: 4>\u001b[1;34m()\u001b[0m\n\u001b[0;32m      1\u001b[0m n_features \u001b[38;5;241m=\u001b[39m \u001b[38;5;241m10\u001b[39m\n\u001b[0;32m      3\u001b[0m importances \u001b[38;5;241m=\u001b[39m clf\u001b[38;5;241m.\u001b[39mfeature_importances_[\u001b[38;5;241m0\u001b[39m:n_features]\n\u001b[1;32m----> 4\u001b[0m indices \u001b[38;5;241m=\u001b[39m \u001b[43mnp\u001b[49m\u001b[38;5;241m.\u001b[39margsort(importances)[::\u001b[38;5;241m-\u001b[39m\u001b[38;5;241m1\u001b[39m][\u001b[38;5;241m0\u001b[39m:n_features]\n\u001b[0;32m      5\u001b[0m names \u001b[38;5;241m=\u001b[39m [X_train\u001b[38;5;241m.\u001b[39mcolumns[i] \u001b[38;5;28;01mfor\u001b[39;00m i \u001b[38;5;129;01min\u001b[39;00m indices][\u001b[38;5;241m0\u001b[39m:n_features]\n\u001b[0;32m      7\u001b[0m plt\u001b[38;5;241m.\u001b[39mfigure(figsize\u001b[38;5;241m=\u001b[39m(\u001b[38;5;241m10\u001b[39m, \u001b[38;5;241m10\u001b[39m))\n",
      "\u001b[1;31mNameError\u001b[0m: name 'np' is not defined"
     ]
    }
   ],
   "source": [
    "n_features = 10\n",
    "\n",
    "importances = clf.feature_importances_[0:n_features]\n",
    "indices = np.argsort(importances)[::-1][0:n_features]\n",
    "names = [X_train.columns[i] for i in indices][0:n_features]\n",
    "\n",
    "plt.figure(figsize=(10, 10))\n",
    "plt.title(\"Feature Importance - Top {} features\".format(n_features))\n",
    "plt.barh(range(n_features), importances[indices])\n",
    "plt.yticks(range(n_features), names, rotation=0)\n",
    "plt.show()"
   ]
  },
  {
   "cell_type": "markdown",
   "id": "179259c6",
   "metadata": {},
   "source": [
    "### Confussion matrix"
   ]
  },
  {
   "cell_type": "code",
   "execution_count": null,
   "id": "1dcee9d8",
   "metadata": {
    "ExecuteTime": {
     "end_time": "2022-10-24T16:03:27.924457Z",
     "start_time": "2022-10-24T16:03:27.924457Z"
    }
   },
   "outputs": [],
   "source": [
    "conf_matrix = confusion_matrix(y_test, y_pred)\n",
    "conf_matrix_norm = conf_matrix / conf_matrix.astype(float).sum(axis=1)\n",
    "\n",
    "ax = plt.subplot()\n",
    "sns.heatmap(conf_matrix_norm, annot=True, cmap='Blues', fmt='g', ax=ax)\n",
    "\n",
    "ax.set_xlabel('Convert - Predicted labels')\n",
    "ax.set_ylabel('Convert - True labels')\n",
    "ax.xaxis.set_ticklabels(['No', 'Yes'])\n",
    "ax.yaxis.set_ticklabels(['No', 'Yes'])\n",
    "plt.title('Normalized Confusion Matrix')\n",
    "plt.show()\n",
    "\n",
    "ax = plt.subplot()\n",
    "sns.heatmap(conf_matrix, annot=True, cmap='Blues', fmt='g', ax=ax)\n",
    "\n",
    "ax.set_xlabel('Convert - Predicted labels')\n",
    "ax.set_ylabel('Convert - True labels')\n",
    "ax.xaxis.set_ticklabels(['No', 'Yes'])\n",
    "ax.yaxis.set_ticklabels(['No', 'Yes'])\n",
    "plt.title('Confusion Matrix')\n",
    "plt.show()"
   ]
  },
  {
   "cell_type": "code",
   "execution_count": null,
   "id": "d0911c71",
   "metadata": {
    "ExecuteTime": {
     "end_time": "2022-10-24T16:03:27.925457Z",
     "start_time": "2022-10-24T16:03:27.925457Z"
    }
   },
   "outputs": [],
   "source": [
    "print(classification_report(y_test, y_pred, target_names=['No', 'Yes']))"
   ]
  },
  {
   "cell_type": "markdown",
   "id": "d5b16ef2",
   "metadata": {},
   "source": [
    "### ROC curve"
   ]
  },
  {
   "cell_type": "code",
   "execution_count": null,
   "id": "1e05bdb6",
   "metadata": {
    "ExecuteTime": {
     "end_time": "2022-10-24T16:03:27.926458Z",
     "start_time": "2022-10-24T16:03:27.926458Z"
    }
   },
   "outputs": [],
   "source": [
    "y_scores = y_pred_proba_test[:, 1]\n",
    "# y_test_int = np.array((y_test == 'En Firme').astype(int)[target].tolist())"
   ]
  },
  {
   "cell_type": "code",
   "execution_count": null,
   "id": "6392633b",
   "metadata": {
    "ExecuteTime": {
     "end_time": "2022-10-24T16:03:27.927459Z",
     "start_time": "2022-10-24T16:03:27.927459Z"
    }
   },
   "outputs": [],
   "source": [
    "# fpr, tpr, thresholds = roc_curve(y_test_int, y_scores) \n",
    "fpr, tpr, thresholds = roc_curve(y_test, y_scores) "
   ]
  },
  {
   "cell_type": "code",
   "execution_count": null,
   "id": "dfd14df0",
   "metadata": {
    "ExecuteTime": {
     "end_time": "2022-10-24T16:03:27.927459Z",
     "start_time": "2022-10-24T16:03:27.927459Z"
    }
   },
   "outputs": [],
   "source": [
    "AUC = auc(fpr, tpr) \n",
    "print('AUC: ' + str(AUC))"
   ]
  },
  {
   "cell_type": "code",
   "execution_count": null,
   "id": "e0b92290",
   "metadata": {
    "ExecuteTime": {
     "end_time": "2022-10-24T16:03:27.928460Z",
     "start_time": "2022-10-24T16:03:27.928460Z"
    },
    "scrolled": false
   },
   "outputs": [],
   "source": [
    "plt.plot(fpr, tpr)  \n",
    "plt.title('ROC_curve' + '(AUC: ' + str(AUC) + ')')\n",
    "plt.ylabel('True Positive Rate')  \n",
    "plt.xlabel('False Positive Rate') \n",
    "plt.plot([0, 1], [0, 1], color=\"navy\", linestyle=\"--\")\n",
    "plt.xlim([0.0, 1.0])\n",
    "plt.ylim([0.0, 1.05])\n",
    "plt.show()  "
   ]
  },
  {
   "cell_type": "markdown",
   "id": "153f3aa9",
   "metadata": {},
   "source": [
    "### Precision-Recall curve"
   ]
  },
  {
   "cell_type": "code",
   "execution_count": null,
   "id": "639a9267",
   "metadata": {
    "ExecuteTime": {
     "end_time": "2022-10-24T16:03:27.929461Z",
     "start_time": "2022-10-24T16:03:27.929461Z"
    }
   },
   "outputs": [],
   "source": [
    "prec, recall, thresholds = precision_recall_curve(y_test, y_scores)\n",
    "# prec, recall, thresholds = precision_recall_curve(y_test_int, y_scores)\n",
    "pr_display = PrecisionRecallDisplay(precision=prec, recall=recall).plot()\n",
    "plt.xlim([0.0, 1.0])\n",
    "plt.ylim([0.0, 1.05])\n",
    "plt.show()"
   ]
  },
  {
   "cell_type": "code",
   "execution_count": null,
   "id": "b17dcd15",
   "metadata": {
    "ExecuteTime": {
     "end_time": "2022-10-24T16:03:27.930462Z",
     "start_time": "2022-10-24T16:03:27.930462Z"
    }
   },
   "outputs": [],
   "source": [
    "fig, ax1 = plt.subplots(figsize=(10, 5))\n",
    "\n",
    "ax1.plot(thresholds, recall[:-1], 'b--', linewidth=3, label='Recall')\n",
    "ax1.set_xlabel('Threshold', fontsize=15)\n",
    "ax1.set_ylabel('Recall', fontsize=15)\n",
    "ax1.set_ylim([0, 1.15])\n",
    "# ax1.axhline(0.1, color='r')\n",
    "ax1.legend(loc=\"upper left\", fontsize=15)\n",
    "\n",
    "ax2 = ax1.twinx()  \n",
    "ax2.plot(thresholds, prec[:-1], 'g--', linewidth=3, label = 'Precision')\n",
    "ax2.set_xlabel('Threshold', fontsize=20)\n",
    "ax2.set_ylabel('Precision', fontsize=15)\n",
    "ax2.set_ylim([0, 1.15])\n",
    "ax2.legend(loc=\"upper right\", fontsize=15)\n",
    "\n",
    "ax1.grid()\n",
    "ax1.set_title(\"Precision -vs- Recall Tradeoff\", fontsize=20)\n",
    "\n",
    "plt.axvline(x=0.5, c='red')\n",
    "\n",
    "plt.show()"
   ]
  },
  {
   "cell_type": "markdown",
   "id": "50efb965",
   "metadata": {},
   "source": [
    "# **`--- CALCULATE ACCOUNT_VALUE ---`**"
   ]
  },
  {
   "cell_type": "code",
   "execution_count": null,
   "id": "560b9c11",
   "metadata": {
    "ExecuteTime": {
     "end_time": "2022-10-24T16:03:27.930462Z",
     "start_time": "2022-10-24T16:03:27.930462Z"
    }
   },
   "outputs": [],
   "source": [
    "df_results = X_test.copy()\n",
    "df_results['convert'] = y_test\n",
    "df_results['convert_pred'] = y_pred\n",
    "df_results['account_uuid'] = train.iloc[df_results.index]['account_uuid'].values\n",
    "df_results"
   ]
  },
  {
   "cell_type": "code",
   "execution_count": null,
   "id": "c0ecda79",
   "metadata": {
    "ExecuteTime": {
     "end_time": "2022-10-24T16:03:27.931462Z",
     "start_time": "2022-10-24T16:03:27.931462Z"
    }
   },
   "outputs": [],
   "source": [
    "df_results['account_value_by_product'] = df_results['premium']*df_results['convert']\n",
    "df_results['account_value_by_product_pred'] = df_results['premium']*df_results['convert_pred']\n",
    "df_results"
   ]
  },
  {
   "cell_type": "code",
   "execution_count": null,
   "id": "cc2714b0",
   "metadata": {
    "ExecuteTime": {
     "end_time": "2022-10-24T16:03:27.932463Z",
     "start_time": "2022-10-24T16:03:27.932463Z"
    }
   },
   "outputs": [],
   "source": [
    "actual_account_values = df_results.groupby('account_uuid')['account_value_by_product'].sum().to_frame().rename(columns={'account_value_by_product': 'account_value_actual'}).sort_values(by='account_value_actual', ascending=False)\n",
    "pred_account_values = df_results.groupby('account_uuid')['account_value_by_product_pred'].sum().to_frame().rename(columns={'account_value_by_product_pred': 'account_value_pred'}).sort_values(by='account_value_pred', ascending=False)"
   ]
  },
  {
   "cell_type": "code",
   "execution_count": null,
   "id": "e2d61f50",
   "metadata": {
    "ExecuteTime": {
     "end_time": "2022-10-24T16:03:27.933464Z",
     "start_time": "2022-10-24T16:03:27.933464Z"
    }
   },
   "outputs": [],
   "source": [
    "account_values = actual_account_values.join(pred_account_values).reset_index()\n",
    "account_values['res'] = account_values['account_value_actual'] - account_values['account_value_pred']\n",
    "account_values"
   ]
  },
  {
   "cell_type": "code",
   "execution_count": null,
   "id": "c15c58e1",
   "metadata": {
    "ExecuteTime": {
     "end_time": "2022-10-24T16:03:27.933464Z",
     "start_time": "2022-10-24T16:03:27.933464Z"
    }
   },
   "outputs": [],
   "source": [
    "rmse = mean_squared_error(account_values.account_value_actual, account_values.account_value_pred, squared=False)\n",
    "rmse"
   ]
  },
  {
   "cell_type": "code",
   "execution_count": null,
   "id": "e39421d6",
   "metadata": {
    "ExecuteTime": {
     "end_time": "2022-10-24T16:03:27.934465Z",
     "start_time": "2022-10-24T16:03:27.934465Z"
    }
   },
   "outputs": [],
   "source": [
    "plt.figure(figsize=(18,6))\n",
    "plt.plot(account_values['res'], '.')\n",
    "plt.show()"
   ]
  },
  {
   "cell_type": "code",
   "execution_count": null,
   "id": "952acdc4",
   "metadata": {
    "ExecuteTime": {
     "end_time": "2022-10-24T16:03:27.935466Z",
     "start_time": "2022-10-24T16:03:27.935466Z"
    }
   },
   "outputs": [],
   "source": [
    "df_results[df_results.account_uuid.isin(account_values[account_values.res < -40000].account_uuid.tolist())]"
   ]
  },
  {
   "cell_type": "code",
   "execution_count": null,
   "id": "9d7b5653",
   "metadata": {},
   "outputs": [],
   "source": []
  },
  {
   "cell_type": "code",
   "execution_count": null,
   "id": "98d7c78d",
   "metadata": {},
   "outputs": [],
   "source": []
  },
  {
   "cell_type": "code",
   "execution_count": null,
   "id": "12e553ba",
   "metadata": {},
   "outputs": [],
   "source": []
  },
  {
   "cell_type": "code",
   "execution_count": null,
   "id": "8db0d21c",
   "metadata": {},
   "outputs": [],
   "source": []
  },
  {
   "cell_type": "code",
   "execution_count": null,
   "id": "c396e15b",
   "metadata": {},
   "outputs": [],
   "source": []
  },
  {
   "cell_type": "code",
   "execution_count": null,
   "id": "f9e44752",
   "metadata": {},
   "outputs": [],
   "source": []
  },
  {
   "cell_type": "code",
   "execution_count": null,
   "id": "40b3195d",
   "metadata": {},
   "outputs": [],
   "source": []
  },
  {
   "cell_type": "code",
   "execution_count": null,
   "id": "c6c9db03",
   "metadata": {},
   "outputs": [],
   "source": []
  },
  {
   "cell_type": "code",
   "execution_count": null,
   "id": "4fcbfa03",
   "metadata": {},
   "outputs": [],
   "source": []
  },
  {
   "cell_type": "code",
   "execution_count": null,
   "id": "13ea113e",
   "metadata": {},
   "outputs": [],
   "source": []
  }
 ],
 "metadata": {
  "hide_input": false,
  "kernelspec": {
   "display_name": "Python 3 (ipykernel)",
   "language": "python",
   "name": "python3"
  },
  "language_info": {
   "codemirror_mode": {
    "name": "ipython",
    "version": 3
   },
   "file_extension": ".py",
   "mimetype": "text/x-python",
   "name": "python",
   "nbconvert_exporter": "python",
   "pygments_lexer": "ipython3",
   "version": "3.9.13"
  },
  "toc": {
   "base_numbering": 1,
   "nav_menu": {},
   "number_sections": true,
   "sideBar": true,
   "skip_h1_title": false,
   "title_cell": "Table of Contents",
   "title_sidebar": "Contents",
   "toc_cell": false,
   "toc_position": {
    "height": "calc(100% - 180px)",
    "left": "10px",
    "top": "150px",
    "width": "280.174px"
   },
   "toc_section_display": true,
   "toc_window_display": true
  },
  "varInspector": {
   "cols": {
    "lenName": 16,
    "lenType": 16,
    "lenVar": 40
   },
   "kernels_config": {
    "python": {
     "delete_cmd_postfix": "",
     "delete_cmd_prefix": "del ",
     "library": "var_list.py",
     "varRefreshCmd": "print(var_dic_list())"
    },
    "r": {
     "delete_cmd_postfix": ") ",
     "delete_cmd_prefix": "rm(",
     "library": "var_list.r",
     "varRefreshCmd": "cat(var_dic_list()) "
    }
   },
   "types_to_exclude": [
    "module",
    "function",
    "builtin_function_or_method",
    "instance",
    "_Feature"
   ],
   "window_display": false
  }
 },
 "nbformat": 4,
 "nbformat_minor": 5
}
